{
 "cells": [
  {
   "cell_type": "code",
   "execution_count": 1,
   "metadata": {},
   "outputs": [],
   "source": [
    "import os\n",
    "os.environ[\"CUDA_VISIBLE_DEVICES\"]=\"0\"  #0 for activate , -1 for deactivate"
   ]
  },
  {
   "cell_type": "code",
   "execution_count": 1,
   "metadata": {},
   "outputs": [
    {
     "name": "stderr",
     "output_type": "stream",
     "text": [
      "Using TensorFlow backend.\n"
     ]
    }
   ],
   "source": [
    "import pandas as pd\n",
    "import numpy as np\n",
    "import random\n",
    "import os\n",
    "import shutil\n",
    "from os import listdir\n",
    "from os.path import isfile, join\n",
    "import math\n",
    "import tensorflow as tf\n",
    "import keras\n",
    "import pickle"
   ]
  },
  {
   "cell_type": "markdown",
   "metadata": {},
   "source": [
    "## move and prepare img"
   ]
  },
  {
   "cell_type": "code",
   "execution_count": 2,
   "metadata": {},
   "outputs": [],
   "source": [
    "df=pd.read_csv('ctai.csv')"
   ]
  },
  {
   "cell_type": "code",
   "execution_count": 3,
   "metadata": {},
   "outputs": [
    {
     "data": {
      "text/html": [
       "<div>\n",
       "<style scoped>\n",
       "    .dataframe tbody tr th:only-of-type {\n",
       "        vertical-align: middle;\n",
       "    }\n",
       "\n",
       "    .dataframe tbody tr th {\n",
       "        vertical-align: top;\n",
       "    }\n",
       "\n",
       "    .dataframe thead th {\n",
       "        text-align: right;\n",
       "    }\n",
       "</style>\n",
       "<table border=\"1\" class=\"dataframe\">\n",
       "  <thead>\n",
       "    <tr style=\"text-align: right;\">\n",
       "      <th></th>\n",
       "      <th>id</th>\n",
       "      <th>gender</th>\n",
       "      <th>age_group</th>\n",
       "      <th>age</th>\n",
       "    </tr>\n",
       "  </thead>\n",
       "  <tbody>\n",
       "    <tr>\n",
       "      <th>0</th>\n",
       "      <td>img-id1-object-1</td>\n",
       "      <td>Male</td>\n",
       "      <td>Adult</td>\n",
       "      <td>32.0</td>\n",
       "    </tr>\n",
       "    <tr>\n",
       "      <th>1</th>\n",
       "      <td>img-id2-object-1</td>\n",
       "      <td>Male</td>\n",
       "      <td>Infant</td>\n",
       "      <td>3.0</td>\n",
       "    </tr>\n",
       "  </tbody>\n",
       "</table>\n",
       "</div>"
      ],
      "text/plain": [
       "                 id gender age_group   age\n",
       "0  img-id1-object-1   Male     Adult  32.0\n",
       "1  img-id2-object-1   Male    Infant   3.0"
      ]
     },
     "execution_count": 3,
     "metadata": {},
     "output_type": "execute_result"
    }
   ],
   "source": [
    "df.head(2)"
   ]
  },
  {
   "cell_type": "code",
   "execution_count": 16,
   "metadata": {},
   "outputs": [
    {
     "data": {
      "text/plain": [
       "37"
      ]
     },
     "execution_count": 16,
     "metadata": {},
     "output_type": "execute_result"
    }
   ],
   "source": [
    "len(df['age'].unique())"
   ]
  },
  {
   "cell_type": "code",
   "execution_count": 17,
   "metadata": {},
   "outputs": [
    {
     "data": {
      "text/plain": [
       "(5078, 2)"
      ]
     },
     "execution_count": 17,
     "metadata": {},
     "output_type": "execute_result"
    }
   ],
   "source": [
    "df=pd.read_csv('ctai11.csv')\n",
    "df.shape"
   ]
  },
  {
   "cell_type": "code",
   "execution_count": 4,
   "metadata": {},
   "outputs": [
    {
     "data": {
      "text/plain": [
       "id        False\n",
       "gender    False\n",
       "dtype: bool"
      ]
     },
     "execution_count": 4,
     "metadata": {},
     "output_type": "execute_result"
    }
   ],
   "source": [
    "df.isnull().any()"
   ]
  },
  {
   "cell_type": "code",
   "execution_count": 18,
   "metadata": {},
   "outputs": [
    {
     "data": {
      "text/plain": [
       "array(['Male', 'Female', 'Unknown'], dtype=object)"
      ]
     },
     "execution_count": 18,
     "metadata": {},
     "output_type": "execute_result"
    }
   ],
   "source": [
    "df['gender'].unique()"
   ]
  },
  {
   "cell_type": "code",
   "execution_count": 5,
   "metadata": {},
   "outputs": [],
   "source": [
    "df=df[df.gender != 'Unknown']"
   ]
  },
  {
   "cell_type": "code",
   "execution_count": 6,
   "metadata": {},
   "outputs": [
    {
     "data": {
      "text/plain": [
       "array(['Male', 'Female'], dtype=object)"
      ]
     },
     "execution_count": 6,
     "metadata": {},
     "output_type": "execute_result"
    }
   ],
   "source": [
    "df.gender.unique()"
   ]
  },
  {
   "cell_type": "code",
   "execution_count": 7,
   "metadata": {},
   "outputs": [
    {
     "data": {
      "text/plain": [
       "(4706, 2)"
      ]
     },
     "execution_count": 7,
     "metadata": {},
     "output_type": "execute_result"
    }
   ],
   "source": [
    "df.shape"
   ]
  },
  {
   "cell_type": "code",
   "execution_count": 8,
   "metadata": {},
   "outputs": [],
   "source": [
    "df.to_csv(r'ctai1.csv')"
   ]
  },
  {
   "cell_type": "code",
   "execution_count": 9,
   "metadata": {},
   "outputs": [
    {
     "data": {
      "text/plain": [
       "array(['Male', 'Female'], dtype=object)"
      ]
     },
     "execution_count": 9,
     "metadata": {},
     "output_type": "execute_result"
    }
   ],
   "source": [
    "df=pd.read_csv('ctai1.csv')\n",
    "df.gender.unique()"
   ]
  },
  {
   "cell_type": "code",
   "execution_count": 1,
   "metadata": {},
   "outputs": [],
   "source": [
    "for a in range(len(df)):\n",
    "    nofi2 = []\n",
    "    img = df.loc[a , 'id']\n",
    "    folder = df.loc[a , 'gender']\n",
    "    \n",
    "    source = 'face_images/'+img+'.png'\n",
    "    shutil.move(source, folder)      "
   ]
  },
  {
   "cell_type": "code",
   "execution_count": 12,
   "metadata": {},
   "outputs": [],
   "source": [
    "df_male=df[df.gender == 'Male']"
   ]
  },
  {
   "cell_type": "code",
   "execution_count": 13,
   "metadata": {},
   "outputs": [],
   "source": [
    "df_female=df[df.gender=='Female']\n",
    "#df_female = df_female.sort_values(by='id', ascending=True)"
   ]
  },
  {
   "cell_type": "code",
   "execution_count": 14,
   "metadata": {},
   "outputs": [],
   "source": [
    "name_f = df_female['id'].tolist()"
   ]
  },
  {
   "cell_type": "code",
   "execution_count": 15,
   "metadata": {},
   "outputs": [],
   "source": [
    "name_m=df_male['id'].tolist()"
   ]
  },
  {
   "cell_type": "code",
   "execution_count": 16,
   "metadata": {},
   "outputs": [],
   "source": [
    "name_f.sort()  \n",
    "random.seed(230)\n",
    "random.shuffle(name_f) \n",
    "\n",
    "split_1 = int(0.8 * len(name_f))\n",
    "split_2 = int(0.9 * len(name_f))\n",
    "train_female = name_f[:split_1]\n",
    "dev_female = name_f[split_1:split_2]\n",
    "test_female = name_f[split_2:]"
   ]
  },
  {
   "cell_type": "code",
   "execution_count": 17,
   "metadata": {},
   "outputs": [],
   "source": [
    "name_m.sort()  \n",
    "random.seed(230)\n",
    "random.shuffle(name_m)\n",
    "\n",
    "split_1 = int(0.8 * len(name_m))\n",
    "split_2 = int(0.9 * len(name_m))\n",
    "train_male = name_m[:split_1]\n",
    "dev_male = name_m[split_1:split_2]\n",
    "test_male = name_m[split_2:]"
   ]
  },
  {
   "cell_type": "code",
   "execution_count": 18,
   "metadata": {},
   "outputs": [
    {
     "name": "stdout",
     "output_type": "stream",
     "text": [
      "2273 1818 228\n"
     ]
    }
   ],
   "source": [
    "print(len(name_f) ,len(train_female),len(test_female))"
   ]
  },
  {
   "cell_type": "code",
   "execution_count": 2,
   "metadata": {},
   "outputs": [],
   "source": [
    "for i in name_f:\n",
    "    if i in train_female:\n",
    "        source='Female/' +i +'.png'\n",
    "        folder =r'C:\\Users\\peravit2\\Desktop\\BADS7604 DL\\chimpanzee\\chimpanzee_faces-master\\datasets_cropped_chimpanzee_faces\\data_CTai\\train\\train_female'\n",
    "        shutil.move(source, folder)\n",
    "        \n",
    "    if i in test_female:\n",
    "        source='Female/' + i+'.png'\n",
    "        folder =r'C:\\Users\\peravit2\\Desktop\\BADS7604 DL\\chimpanzee\\chimpanzee_faces-master\\datasets_cropped_chimpanzee_faces\\data_CTai\\test\\test_female'\n",
    "        shutil.move(source, folder)"
   ]
  },
  {
   "cell_type": "code",
   "execution_count": 20,
   "metadata": {},
   "outputs": [
    {
     "name": "stdout",
     "output_type": "stream",
     "text": [
      "2433 1946 244\n"
     ]
    }
   ],
   "source": [
    "print(len(name_m) ,len(train_male),len(test_male))"
   ]
  },
  {
   "cell_type": "markdown",
   "metadata": {},
   "source": [
    "## Modelling"
   ]
  },
  {
   "cell_type": "code",
   "execution_count": 3,
   "metadata": {},
   "outputs": [],
   "source": [
    "for i in name_m:\n",
    "    if i in train_male:\n",
    "        source='Male/' +i +'.png'\n",
    "        folder =r'C:\\Users\\peravit2\\Desktop\\BADS7604 DL\\chimpanzee\\chimpanzee_faces-master\\datasets_cropped_chimpanzee_faces\\data_CTai\\train\\train_male'\n",
    "        shutil.move(source, folder)\n",
    "        \n",
    "    if i in test_male:\n",
    "        source='Male/' + i+'.png'\n",
    "        folder =r'C:\\Users\\peravit2\\Desktop\\BADS7604 DL\\chimpanzee\\chimpanzee_faces-master\\datasets_cropped_chimpanzee_faces\\data_CTai\\test\\test_male'\n",
    "        shutil.move(source, folder)"
   ]
  },
  {
   "cell_type": "code",
   "execution_count": 1,
   "metadata": {},
   "outputs": [],
   "source": [
    "# # https://www.edureka.co/blog/convolutional-neural-network/"
   ]
  },
  {
   "cell_type": "code",
   "execution_count": 1,
   "metadata": {},
   "outputs": [
    {
     "name": "stderr",
     "output_type": "stream",
     "text": [
      "Using TensorFlow backend.\n"
     ]
    }
   ],
   "source": [
    "import tensorflow as tf\n",
    "import keras\n",
    "from keras.preprocessing.image import ImageDataGenerator"
   ]
  },
  {
   "cell_type": "code",
   "execution_count": 2,
   "metadata": {},
   "outputs": [
    {
     "name": "stdout",
     "output_type": "stream",
     "text": [
      "Found 3764 images belonging to 2 classes.\n"
     ]
    }
   ],
   "source": [
    "train_datagen= ImageDataGenerator(\n",
    "    rescale = 1./255,\n",
    "    shear_range=0.2,\n",
    "    zoom_range=0.2,\n",
    "    horizontal_flip=True)\n",
    "training_set = train_datagen.flow_from_directory(\n",
    "    'train', target_size= (100,100),\n",
    "     batch_size=32,\n",
    "     class_mode='binary')"
   ]
  },
  {
   "cell_type": "code",
   "execution_count": 3,
   "metadata": {},
   "outputs": [],
   "source": [
    "# model.fit_generator(generator.flow_from_directory(directory, target_size=(64, 64), batch_size= ...),steps_per_epoch= .... , epochs= ... )"
   ]
  },
  {
   "cell_type": "code",
   "execution_count": 4,
   "metadata": {},
   "outputs": [],
   "source": [
    "test_datagen = ImageDataGenerator(rescale=1./255)"
   ]
  },
  {
   "cell_type": "code",
   "execution_count": 5,
   "metadata": {},
   "outputs": [
    {
     "name": "stdout",
     "output_type": "stream",
     "text": [
      "Found 472 images belonging to 2 classes.\n"
     ]
    }
   ],
   "source": [
    "test_set=test_datagen.flow_from_directory(\n",
    "    'test',target_size=(100,100),\n",
    "    batch_size=32,\n",
    "    class_mode='binary'\n",
    "    )"
   ]
  },
  {
   "cell_type": "code",
   "execution_count": 6,
   "metadata": {},
   "outputs": [],
   "source": [
    "from keras.models import Sequential\n",
    "from keras import layers\n",
    "from keras.layers import Convolution2D, MaxPooling2D, Flatten, Dense ,Dropout , Conv2D , AveragePooling2D,BatchNormalization\n",
    "from sklearn.metrics import confusion_matrix, classification_report, mean_squared_error\n",
    "from keras.regularizers import l2"
   ]
  },
  {
   "cell_type": "code",
   "execution_count": 29,
   "metadata": {
    "scrolled": true
   },
   "outputs": [
    {
     "name": "stderr",
     "output_type": "stream",
     "text": [
      "WARNING: Logging before flag parsing goes to stderr.\n",
      "W1022 02:25:05.304296  2596 deprecation_wrapper.py:119] From C:\\Users\\peravit2\\Anaconda3\\lib\\site-packages\\keras\\backend\\tensorflow_backend.py:66: The name tf.get_default_graph is deprecated. Please use tf.compat.v1.get_default_graph instead.\n",
      "\n",
      "C:\\Users\\peravit2\\Anaconda3\\lib\\site-packages\\ipykernel_launcher.py:3: UserWarning: Update your `Conv2D` call to the Keras 2 API: `Conv2D(32, (3, 3), input_shape=(100, 100,..., activation=\"relu\")`\n",
      "  This is separate from the ipykernel package so we can avoid doing imports until\n",
      "W1022 02:25:05.318260  2596 deprecation_wrapper.py:119] From C:\\Users\\peravit2\\Anaconda3\\lib\\site-packages\\keras\\backend\\tensorflow_backend.py:541: The name tf.placeholder is deprecated. Please use tf.compat.v1.placeholder instead.\n",
      "\n",
      "W1022 02:25:05.323245  2596 deprecation_wrapper.py:119] From C:\\Users\\peravit2\\Anaconda3\\lib\\site-packages\\keras\\backend\\tensorflow_backend.py:4432: The name tf.random_uniform is deprecated. Please use tf.random.uniform instead.\n",
      "\n",
      "W1022 02:25:05.339257  2596 deprecation_wrapper.py:119] From C:\\Users\\peravit2\\Anaconda3\\lib\\site-packages\\keras\\backend\\tensorflow_backend.py:148: The name tf.placeholder_with_default is deprecated. Please use tf.compat.v1.placeholder_with_default instead.\n",
      "\n",
      "W1022 02:25:05.350174  2596 deprecation.py:506] From C:\\Users\\peravit2\\Anaconda3\\lib\\site-packages\\keras\\backend\\tensorflow_backend.py:3733: calling dropout (from tensorflow.python.ops.nn_ops) with keep_prob is deprecated and will be removed in a future version.\n",
      "Instructions for updating:\n",
      "Please use `rate` instead of `keep_prob`. Rate should be set to `rate = 1 - keep_prob`.\n",
      "W1022 02:25:05.372116  2596 deprecation_wrapper.py:119] From C:\\Users\\peravit2\\Anaconda3\\lib\\site-packages\\keras\\backend\\tensorflow_backend.py:4267: The name tf.nn.max_pool is deprecated. Please use tf.nn.max_pool2d instead.\n",
      "\n",
      "W1022 02:25:05.416033  2596 deprecation_wrapper.py:119] From C:\\Users\\peravit2\\Anaconda3\\lib\\site-packages\\keras\\backend\\tensorflow_backend.py:4271: The name tf.nn.avg_pool is deprecated. Please use tf.nn.avg_pool2d instead.\n",
      "\n",
      "C:\\Users\\peravit2\\Anaconda3\\lib\\site-packages\\ipykernel_launcher.py:16: UserWarning: Update your `Dense` call to the Keras 2 API: `Dense(activation=\"softmax\", units=1)`\n",
      "  app.launch_new_instance()\n",
      "W1022 02:25:05.479862  2596 deprecation_wrapper.py:119] From C:\\Users\\peravit2\\Anaconda3\\lib\\site-packages\\keras\\optimizers.py:793: The name tf.train.Optimizer is deprecated. Please use tf.compat.v1.train.Optimizer instead.\n",
      "\n",
      "W1022 02:25:05.567623  2596 deprecation_wrapper.py:119] From C:\\Users\\peravit2\\Anaconda3\\lib\\site-packages\\keras\\backend\\tensorflow_backend.py:3657: The name tf.log is deprecated. Please use tf.math.log instead.\n",
      "\n",
      "W1022 02:25:05.571583  2596 deprecation.py:323] From C:\\Users\\peravit2\\Anaconda3\\lib\\site-packages\\tensorflow\\python\\ops\\nn_impl.py:180: add_dispatch_support.<locals>.wrapper (from tensorflow.python.ops.array_ops) is deprecated and will be removed in a future version.\n",
      "Instructions for updating:\n",
      "Use tf.where in 2.0, which has the same broadcast rule as np.where\n"
     ]
    }
   ],
   "source": [
    "classifier = Sequential()\n",
    "##convo\n",
    "classifier.add(Convolution2D(32,3,3, input_shape = (100,100,3) , activation='relu'   ))\n",
    "# classifier.add( BatchNormalization(axis=1) )\n",
    "classifier.add(Dropout(0.2))\n",
    "classifier.add(MaxPooling2D(pool_size=(2,2)))\n",
    "classifier.add(Conv2D(64, (3, 3), activation='relu'))\n",
    "classifier.add(Dropout(0.2))\n",
    "classifier.add(AveragePooling2D(pool_size=(3,3), strides=(2, 2)))\n",
    "classifier.add(Flatten())\n",
    "##fully conencted\n",
    "classifier.add(Dense(512, activation='relu'))\n",
    "# classifier.add(Dropout(0.2))\n",
    "classifier.add(Dense(128, activation='relu'))\n",
    "classifier.add(Dropout(0.2))\n",
    "classifier.add(Dense(output_dim = 1, activation = 'softmax'))\n",
    "\n",
    "classifier.compile(optimizer='adam',loss='binary_crossentropy', metrics=['accuracy'] )"
   ]
  },
  {
   "cell_type": "code",
   "execution_count": 9,
   "metadata": {},
   "outputs": [],
   "source": [
    "model = Sequential()\n",
    " \n",
    "#1st convolution layer\n",
    "model.add(Conv2D(64, (5, 5), activation='relu', input_shape=(100,100,3)))\n",
    "model.add(MaxPooling2D(pool_size=(5,5), strides=(2, 2)))\n",
    " \n",
    "#2nd convolution layer\n",
    "model.add(Conv2D(64, (3, 3), activation='relu'))\n",
    "# model.add(BatchNormalization(axis=1))\n",
    "model.add(AveragePooling2D(pool_size=(3,3), strides=(2, 2)))\n",
    " \n",
    "\n",
    "model.add(Flatten())\n",
    " \n",
    "#fully connected neural networks\n",
    "model.add(Dense(1024, activation='relu'))\n",
    "model.add(Dense(1024, activation='relu'))\n",
    "model.add(Dropout(0.2))\n",
    " \n",
    "model.add(Dense(1, activation='softmax'))"
   ]
  },
  {
   "cell_type": "code",
   "execution_count": 9,
   "metadata": {},
   "outputs": [],
   "source": [
    "model = Sequential()\n",
    " \n",
    "#1st convolution layer\n",
    "model.add(Conv2D(64, (5, 5), activation='relu', input_shape=(100,100,3)))\n",
    "model.add(MaxPooling2D(pool_size=(5,5), strides=(2, 2)))\n",
    " \n",
    "#2nd convolution layer\n",
    "model.add(Conv2D(64, (3, 3), activation='relu'))\n",
    "model.add(Conv2D(64, (3, 3), activation='relu'))\n",
    "model.add(AveragePooling2D(pool_size=(3,3), strides=(2, 2)))\n",
    " \n",
    "#3rd convolution layer\n",
    "model.add(Conv2D(128, (3, 3), activation='relu'))\n",
    "model.add(Conv2D(128, (3, 3), activation='relu'))\n",
    "model.add(AveragePooling2D(pool_size=(3,3), strides=(2, 2)))\n",
    " \n",
    "model.add(Flatten())\n",
    " \n",
    "#fully connected neural networks\n",
    "model.add(Dense(512, activation='relu'))\n",
    "model.add(Dropout(0.2))\n",
    "model.add(Dense(128, activation='relu'))\n",
    "model.add(Dropout(0.2))\n",
    "model.add(Dense(1, activation='sigmoid'))\n",
    "\n",
    "model.compile(optimizer='adam',loss='binary_crossentropy', metrics=['accuracy'] )"
   ]
  },
  {
   "cell_type": "code",
   "execution_count": 7,
   "metadata": {},
   "outputs": [
    {
     "name": "stderr",
     "output_type": "stream",
     "text": [
      "WARNING: Logging before flag parsing goes to stderr.\n",
      "W1022 18:10:43.685079  7848 deprecation_wrapper.py:119] From C:\\Users\\peravit2\\Anaconda3\\lib\\site-packages\\keras\\backend\\tensorflow_backend.py:66: The name tf.get_default_graph is deprecated. Please use tf.compat.v1.get_default_graph instead.\n",
      "\n",
      "C:\\Users\\peravit2\\Anaconda3\\lib\\site-packages\\ipykernel_launcher.py:2: UserWarning: Update your `Conv2D` call to the Keras 2 API: `Conv2D(32, (3, 3), input_shape=(100, 100,..., activation=\"relu\", kernel_regularizer=<keras.reg..., bias_regularizer=<keras.reg...)`\n",
      "  \n",
      "W1022 18:10:43.701038  7848 deprecation_wrapper.py:119] From C:\\Users\\peravit2\\Anaconda3\\lib\\site-packages\\keras\\backend\\tensorflow_backend.py:541: The name tf.placeholder is deprecated. Please use tf.compat.v1.placeholder instead.\n",
      "\n",
      "W1022 18:10:43.703032  7848 deprecation_wrapper.py:119] From C:\\Users\\peravit2\\Anaconda3\\lib\\site-packages\\keras\\backend\\tensorflow_backend.py:4432: The name tf.random_uniform is deprecated. Please use tf.random.uniform instead.\n",
      "\n",
      "W1022 18:10:43.730964  7848 deprecation_wrapper.py:119] From C:\\Users\\peravit2\\Anaconda3\\lib\\site-packages\\keras\\backend\\tensorflow_backend.py:4267: The name tf.nn.max_pool is deprecated. Please use tf.nn.max_pool2d instead.\n",
      "\n",
      "C:\\Users\\peravit2\\Anaconda3\\lib\\site-packages\\ipykernel_launcher.py:6: UserWarning: Update your `Conv2D` call to the Keras 2 API: `Conv2D(32, (3, 3), activation=\"relu\", kernel_regularizer=<keras.reg..., bias_regularizer=<keras.reg...)`\n",
      "  \n",
      "W1022 18:10:43.769851  7848 deprecation_wrapper.py:119] From C:\\Users\\peravit2\\Anaconda3\\lib\\site-packages\\keras\\backend\\tensorflow_backend.py:148: The name tf.placeholder_with_default is deprecated. Please use tf.compat.v1.placeholder_with_default instead.\n",
      "\n",
      "W1022 18:10:43.775845  7848 deprecation.py:506] From C:\\Users\\peravit2\\Anaconda3\\lib\\site-packages\\keras\\backend\\tensorflow_backend.py:3733: calling dropout (from tensorflow.python.ops.nn_ops) with keep_prob is deprecated and will be removed in a future version.\n",
      "Instructions for updating:\n",
      "Please use `rate` instead of `keep_prob`. Rate should be set to `rate = 1 - keep_prob`.\n",
      "C:\\Users\\peravit2\\Anaconda3\\lib\\site-packages\\ipykernel_launcher.py:17: UserWarning: Update your `Dense` call to the Keras 2 API: `Dense(activation=\"relu\", kernel_regularizer=<keras.reg..., bias_regularizer=<keras.reg..., units=128)`\n",
      "C:\\Users\\peravit2\\Anaconda3\\lib\\site-packages\\ipykernel_launcher.py:19: UserWarning: Update your `Dense` call to the Keras 2 API: `Dense(activation=\"sigmoid\", units=1)`\n",
      "W1022 18:10:43.842663  7848 deprecation_wrapper.py:119] From C:\\Users\\peravit2\\Anaconda3\\lib\\site-packages\\keras\\optimizers.py:793: The name tf.train.Optimizer is deprecated. Please use tf.compat.v1.train.Optimizer instead.\n",
      "\n",
      "W1022 18:10:43.861608  7848 deprecation_wrapper.py:119] From C:\\Users\\peravit2\\Anaconda3\\lib\\site-packages\\keras\\backend\\tensorflow_backend.py:3657: The name tf.log is deprecated. Please use tf.math.log instead.\n",
      "\n",
      "W1022 18:10:43.865600  7848 deprecation.py:323] From C:\\Users\\peravit2\\Anaconda3\\lib\\site-packages\\tensorflow\\python\\ops\\nn_impl.py:180: add_dispatch_support.<locals>.wrapper (from tensorflow.python.ops.array_ops) is deprecated and will be removed in a future version.\n",
      "Instructions for updating:\n",
      "Use tf.where in 2.0, which has the same broadcast rule as np.where\n"
     ]
    }
   ],
   "source": [
    "classifier=Sequential()\n",
    "classifier.add(Convolution2D(32,3,3,input_shape=(100,100,3),activation='relu' ,kernel_regularizer=l2(0.001),bias_regularizer=l2(0.001) ) )\n",
    "classifier.add(MaxPooling2D(pool_size = (2,2)))\n",
    "#classifier.add(Dropout(0.2))\n",
    "\n",
    "classifier.add(Convolution2D(32,3,3,activation='relu' ,kernel_regularizer=l2(0.001),bias_regularizer=l2(0.001)  ) )\n",
    "classifier.add(MaxPooling2D(pool_size = (2,2)))\n",
    "#classifier.add(Dropout(0.2))\n",
    "\n",
    "#classifier.add(ZeroPadding2D((1, 1)))\n",
    "classifier.add(Conv2D(32, (3, 3) ,activation=('relu') ))\n",
    "classifier.add(MaxPooling2D(pool_size=(2, 2)))\n",
    "classifier.add(Dropout(0.1))\n",
    "\n",
    "classifier.add(Flatten())\n",
    "\n",
    "classifier.add(Dense(output_dim=128 , activation='relu',kernel_regularizer=l2(0.001),bias_regularizer=l2(0.01)))\n",
    "classifier.add(Dropout(0.2))\n",
    "classifier.add(Dense(output_dim=1 ,activation='sigmoid'   ))\n",
    "\n",
    "classifier.compile(optimizer=  'adam'  ,loss = 'binary_crossentropy',metrics=['accuracy'])"
   ]
  },
  {
   "cell_type": "code",
   "execution_count": 8,
   "metadata": {},
   "outputs": [
    {
     "name": "stdout",
     "output_type": "stream",
     "text": [
      "Epoch 1/20\n",
      "700/700 [==============================] - 93s 133ms/step - loss: 0.6723 - acc: 0.6244 - val_loss: 0.6349 - val_acc: 0.6698\n",
      "Epoch 2/20\n",
      "700/700 [==============================] - 91s 131ms/step - loss: 0.5935 - acc: 0.7158 - val_loss: 0.5781 - val_acc: 0.7236\n",
      "Epoch 3/20\n",
      "700/700 [==============================] - 87s 124ms/step - loss: 0.5525 - acc: 0.7494 - val_loss: 0.5327 - val_acc: 0.7809\n",
      "Epoch 4/20\n",
      "700/700 [==============================] - 86s 123ms/step - loss: 0.5162 - acc: 0.7754 - val_loss: 0.5004 - val_acc: 0.7985\n",
      "Epoch 5/20\n",
      "700/700 [==============================] - 87s 124ms/step - loss: 0.4938 - acc: 0.8001 - val_loss: 0.4914 - val_acc: 0.7855\n",
      "Epoch 6/20\n",
      "700/700 [==============================] - 86s 123ms/step - loss: 0.4763 - acc: 0.8102 - val_loss: 0.4816 - val_acc: 0.8114\n",
      "Epoch 7/20\n",
      "700/700 [==============================] - 87s 124ms/step - loss: 0.4620 - acc: 0.8223 - val_loss: 0.4891 - val_acc: 0.8030\n",
      "Epoch 8/20\n",
      "700/700 [==============================] - 87s 124ms/step - loss: 0.4430 - acc: 0.8352 - val_loss: 0.4611 - val_acc: 0.8332\n",
      "Epoch 9/20\n",
      "700/700 [==============================] - 86s 123ms/step - loss: 0.4318 - acc: 0.8436 - val_loss: 0.4649 - val_acc: 0.8318\n",
      "Epoch 10/20\n",
      "700/700 [==============================] - 87s 124ms/step - loss: 0.4217 - acc: 0.8506 - val_loss: 0.4648 - val_acc: 0.8424\n",
      "Epoch 11/20\n",
      "700/700 [==============================] - 87s 124ms/step - loss: 0.4119 - acc: 0.8582 - val_loss: 0.4665 - val_acc: 0.8464\n",
      "Epoch 12/20\n",
      "700/700 [==============================] - 86s 123ms/step - loss: 0.4042 - acc: 0.8632 - val_loss: 0.4411 - val_acc: 0.8514\n",
      "Epoch 13/20\n",
      "700/700 [==============================] - 86s 123ms/step - loss: 0.3951 - acc: 0.8711 - val_loss: 0.4284 - val_acc: 0.8601\n",
      "Epoch 14/20\n",
      "700/700 [==============================] - 87s 124ms/step - loss: 0.3859 - acc: 0.8757 - val_loss: 0.4480 - val_acc: 0.8564\n",
      "Epoch 15/20\n",
      "700/700 [==============================] - 87s 124ms/step - loss: 0.3813 - acc: 0.8827 - val_loss: 0.4437 - val_acc: 0.8627\n",
      "Epoch 16/20\n",
      "700/700 [==============================] - 88s 125ms/step - loss: 0.3730 - acc: 0.8854 - val_loss: 0.4702 - val_acc: 0.8496\n",
      "Epoch 17/20\n",
      "700/700 [==============================] - 87s 124ms/step - loss: 0.3657 - acc: 0.8922 - val_loss: 0.4749 - val_acc: 0.8555\n",
      "Epoch 18/20\n",
      "700/700 [==============================] - 86s 123ms/step - loss: 0.3590 - acc: 0.8961 - val_loss: 0.4642 - val_acc: 0.8464\n",
      "Epoch 19/20\n",
      "700/700 [==============================] - 86s 123ms/step - loss: 0.3618 - acc: 0.8973 - val_loss: 0.5028 - val_acc: 0.8383\n",
      "Epoch 20/20\n",
      "700/700 [==============================] - 87s 124ms/step - loss: 0.3501 - acc: 0.9035 - val_loss: 0.4692 - val_acc: 0.8664\n"
     ]
    }
   ],
   "source": [
    "history=classifier.fit_generator(\n",
    "    training_set,\n",
    "    steps_per_epoch=700,\n",
    "    epochs=20,\n",
    "    validation_data=test_set,\n",
    "    validation_steps=70\n",
    ")"
   ]
  },
  {
   "cell_type": "code",
   "execution_count": 11,
   "metadata": {},
   "outputs": [
    {
     "data": {
      "image/png": "[encoded data removed]",
      "text/plain": [
       "<Figure size 432x288 with 1 Axes>"
      ]
     },
     "metadata": {
      "needs_background": "light"
     },
     "output_type": "display_data"
    }
   ],
   "source": [
    "import matplotlib.pyplot as plt\n",
    "plt.plot(history.history['acc'])\n",
    "plt.plot(history.history['val_acc'])\n",
    "plt.title('model accuracy')\n",
    "plt.ylabel('accuracy')\n",
    "plt.xlabel('epoch')\n",
    "plt.legend(['train', 'test'], loc='upper left')\n",
    "plt.show()"
   ]
  },
  {
   "cell_type": "code",
   "execution_count": 10,
   "metadata": {},
   "outputs": [
    {
     "data": {
      "image/png": "[encoded data removed]",
      "text/plain": [
       "<Figure size 432x288 with 1 Axes>"
      ]
     },
     "metadata": {
      "needs_background": "light"
     },
     "output_type": "display_data"
    }
   ],
   "source": [
    "plt.plot(history.history['loss'])\n",
    "plt.plot(history.history['val_loss'])\n",
    "plt.title('model loss')\n",
    "plt.ylabel('loss')\n",
    "plt.xlabel('epoch')\n",
    "plt.legend(['train', 'test'], loc='upper left')\n",
    "plt.show()"
   ]
  }
 ],
 "metadata": {
  "kernelspec": {
   "display_name": "Python 3",
   "language": "python",
   "name": "python3"
  },
  "language_info": {
   "codemirror_mode": {
    "name": "ipython",
    "version": 3
   },
   "file_extension": ".py",
   "mimetype": "text/x-python",
   "name": "python",
   "nbconvert_exporter": "python",
   "pygments_lexer": "ipython3",
   "version": "3.8.8"
  }
 },
 "nbformat": 4,
 "nbformat_minor": 2
}
