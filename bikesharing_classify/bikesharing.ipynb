{
 "cells": [
  {
   "cell_type": "code",
   "execution_count": 1,
   "metadata": {},
   "outputs": [],
   "source": [
    "#https://keras.io/optimizers/\n",
    "#https://medium.com/@wilamelima/analysing-bike-sharing-trends-with-python-a9f574c596b9\n",
    "## http://www.analyzingdata.org/portfolio/001-Bike-sharing/\n",
    "##https://machinelearningmastery.com/regression-tutorial-keras-deep-learning-library-python/\n",
    "# https://datascienceplus.com/keras-regression-based-neural-networks/\n",
    "# https://medium.com/datadriveninvestor/building-neural-network-using-keras-for-regression-ceee5a9eadff"
   ]
  },
  {
   "cell_type": "code",
   "execution_count": 1,
   "metadata": {},
   "outputs": [],
   "source": [
    "import os\n",
    "os.environ[\"CUDA_VISIBLE_DEVICES\"]=\"0\"  #0 for activate , -1 for deactivate"
   ]
  },
  {
   "cell_type": "code",
   "execution_count": 2,
   "metadata": {},
   "outputs": [
    {
     "name": "stderr",
     "output_type": "stream",
     "text": [
      "Using TensorFlow backend.\n"
     ]
    }
   ],
   "source": [
    "import numpy as np\n",
    "import pandas as pd\n",
    "import matplotlib.pyplot as plt\n",
    "import seaborn as sn\n",
    "from sklearn import model_selection\n",
    "from sklearn.preprocessing import LabelEncoder, OneHotEncoder, StandardScaler\n",
    "from sklearn.model_selection import train_test_split\n",
    "from sklearn.metrics import confusion_matrix, classification_report, mean_squared_error\n",
    "from keras.models import Sequential\n",
    "from keras import optimizers\n",
    "from keras.layers import Dense\n",
    "from keras.layers import LeakyReLU\n",
    "import tensorflow as tf\n",
    "from keras import layers"
   ]
  },
  {
   "cell_type": "code",
   "execution_count": 2,
   "metadata": {},
   "outputs": [],
   "source": [
    "sess = tf.Session(config=tf.ConfigProto(log_device_placement=True))"
   ]
  },
  {
   "cell_type": "code",
   "execution_count": 3,
   "metadata": {},
   "outputs": [
    {
     "name": "stdout",
     "output_type": "stream",
     "text": [
      "(17379, 17)\n"
     ]
    }
   ],
   "source": [
    "data = pd.read_csv('hour.csv')\n",
    "print(data.shape)"
   ]
  },
  {
   "cell_type": "code",
   "execution_count": 4,
   "metadata": {},
   "outputs": [
    {
     "data": {
      "text/html": [
       "<div>\n",
       "<style scoped>\n",
       "    .dataframe tbody tr th:only-of-type {\n",
       "        vertical-align: middle;\n",
       "    }\n",
       "\n",
       "    .dataframe tbody tr th {\n",
       "        vertical-align: top;\n",
       "    }\n",
       "\n",
       "    .dataframe thead th {\n",
       "        text-align: right;\n",
       "    }\n",
       "</style>\n",
       "<table border=\"1\" class=\"dataframe\">\n",
       "  <thead>\n",
       "    <tr style=\"text-align: right;\">\n",
       "      <th></th>\n",
       "      <th>instant</th>\n",
       "      <th>dteday</th>\n",
       "      <th>season</th>\n",
       "      <th>yr</th>\n",
       "      <th>mnth</th>\n",
       "      <th>hr</th>\n",
       "      <th>holiday</th>\n",
       "      <th>weekday</th>\n",
       "      <th>workingday</th>\n",
       "      <th>weathersit</th>\n",
       "      <th>temp</th>\n",
       "      <th>atemp</th>\n",
       "      <th>hum</th>\n",
       "      <th>windspeed</th>\n",
       "      <th>casual</th>\n",
       "      <th>registered</th>\n",
       "      <th>cnt</th>\n",
       "    </tr>\n",
       "  </thead>\n",
       "  <tbody>\n",
       "    <tr>\n",
       "      <th>0</th>\n",
       "      <td>1</td>\n",
       "      <td>2011-01-01</td>\n",
       "      <td>1</td>\n",
       "      <td>0</td>\n",
       "      <td>1</td>\n",
       "      <td>0</td>\n",
       "      <td>0</td>\n",
       "      <td>6</td>\n",
       "      <td>0</td>\n",
       "      <td>1</td>\n",
       "      <td>0.24</td>\n",
       "      <td>0.2879</td>\n",
       "      <td>0.81</td>\n",
       "      <td>0.0</td>\n",
       "      <td>3</td>\n",
       "      <td>13</td>\n",
       "      <td>16</td>\n",
       "    </tr>\n",
       "    <tr>\n",
       "      <th>1</th>\n",
       "      <td>2</td>\n",
       "      <td>2011-01-01</td>\n",
       "      <td>1</td>\n",
       "      <td>0</td>\n",
       "      <td>1</td>\n",
       "      <td>1</td>\n",
       "      <td>0</td>\n",
       "      <td>6</td>\n",
       "      <td>0</td>\n",
       "      <td>1</td>\n",
       "      <td>0.22</td>\n",
       "      <td>0.2727</td>\n",
       "      <td>0.80</td>\n",
       "      <td>0.0</td>\n",
       "      <td>8</td>\n",
       "      <td>32</td>\n",
       "      <td>40</td>\n",
       "    </tr>\n",
       "    <tr>\n",
       "      <th>2</th>\n",
       "      <td>3</td>\n",
       "      <td>2011-01-01</td>\n",
       "      <td>1</td>\n",
       "      <td>0</td>\n",
       "      <td>1</td>\n",
       "      <td>2</td>\n",
       "      <td>0</td>\n",
       "      <td>6</td>\n",
       "      <td>0</td>\n",
       "      <td>1</td>\n",
       "      <td>0.22</td>\n",
       "      <td>0.2727</td>\n",
       "      <td>0.80</td>\n",
       "      <td>0.0</td>\n",
       "      <td>5</td>\n",
       "      <td>27</td>\n",
       "      <td>32</td>\n",
       "    </tr>\n",
       "    <tr>\n",
       "      <th>3</th>\n",
       "      <td>4</td>\n",
       "      <td>2011-01-01</td>\n",
       "      <td>1</td>\n",
       "      <td>0</td>\n",
       "      <td>1</td>\n",
       "      <td>3</td>\n",
       "      <td>0</td>\n",
       "      <td>6</td>\n",
       "      <td>0</td>\n",
       "      <td>1</td>\n",
       "      <td>0.24</td>\n",
       "      <td>0.2879</td>\n",
       "      <td>0.75</td>\n",
       "      <td>0.0</td>\n",
       "      <td>3</td>\n",
       "      <td>10</td>\n",
       "      <td>13</td>\n",
       "    </tr>\n",
       "    <tr>\n",
       "      <th>4</th>\n",
       "      <td>5</td>\n",
       "      <td>2011-01-01</td>\n",
       "      <td>1</td>\n",
       "      <td>0</td>\n",
       "      <td>1</td>\n",
       "      <td>4</td>\n",
       "      <td>0</td>\n",
       "      <td>6</td>\n",
       "      <td>0</td>\n",
       "      <td>1</td>\n",
       "      <td>0.24</td>\n",
       "      <td>0.2879</td>\n",
       "      <td>0.75</td>\n",
       "      <td>0.0</td>\n",
       "      <td>0</td>\n",
       "      <td>1</td>\n",
       "      <td>1</td>\n",
       "    </tr>\n",
       "  </tbody>\n",
       "</table>\n",
       "</div>"
      ],
      "text/plain": [
       "   instant      dteday  season  yr  mnth  hr  holiday  weekday  workingday  \\\n",
       "0        1  2011-01-01       1   0     1   0        0        6           0   \n",
       "1        2  2011-01-01       1   0     1   1        0        6           0   \n",
       "2        3  2011-01-01       1   0     1   2        0        6           0   \n",
       "3        4  2011-01-01       1   0     1   3        0        6           0   \n",
       "4        5  2011-01-01       1   0     1   4        0        6           0   \n",
       "\n",
       "   weathersit  temp   atemp   hum  windspeed  casual  registered  cnt  \n",
       "0           1  0.24  0.2879  0.81        0.0       3          13   16  \n",
       "1           1  0.22  0.2727  0.80        0.0       8          32   40  \n",
       "2           1  0.22  0.2727  0.80        0.0       5          27   32  \n",
       "3           1  0.24  0.2879  0.75        0.0       3          10   13  \n",
       "4           1  0.24  0.2879  0.75        0.0       0           1    1  "
      ]
     },
     "execution_count": 4,
     "metadata": {},
     "output_type": "execute_result"
    }
   ],
   "source": [
    "data.head(5)"
   ]
  },
  {
   "cell_type": "code",
   "execution_count": 5,
   "metadata": {},
   "outputs": [],
   "source": [
    "#sn.pairplot(data)"
   ]
  },
  {
   "cell_type": "code",
   "execution_count": 6,
   "metadata": {},
   "outputs": [],
   "source": [
    "data.rename(columns={'weathersit':'weather',\n",
    "                     'mnth':'month',\n",
    "                     'hr':'hour',\n",
    "                     'hum': 'humidity',\n",
    "                     'cnt':'count'},inplace=True)"
   ]
  },
  {
   "cell_type": "code",
   "execution_count": 7,
   "metadata": {},
   "outputs": [
    {
     "data": {
      "text/plain": [
       "instant          int64\n",
       "dteday          object\n",
       "season        category\n",
       "yr               int64\n",
       "month         category\n",
       "hour          category\n",
       "holiday       category\n",
       "weekday       category\n",
       "workingday    category\n",
       "weather       category\n",
       "temp           float64\n",
       "atemp          float64\n",
       "humidity       float64\n",
       "windspeed      float64\n",
       "casual           int64\n",
       "registered       int64\n",
       "count            int64\n",
       "dtype: object"
      ]
     },
     "execution_count": 7,
     "metadata": {},
     "output_type": "execute_result"
    }
   ],
   "source": [
    "data['season'] = data.season.astype('category')\n",
    "data['month'] = data.month.astype('category')\n",
    "data['hour'] = data.hour.astype('category')\n",
    "data['holiday'] = data.holiday.astype('category')\n",
    "data['weekday'] = data.weekday.astype('category')\n",
    "data['workingday'] = data.workingday.astype('category')\n",
    "data['weather'] = data.weather.astype('category')\n",
    "\n",
    "data.dtypes"
   ]
  },
  {
   "cell_type": "code",
   "execution_count": 8,
   "metadata": {},
   "outputs": [
    {
     "data": {
      "text/plain": [
       "instant       False\n",
       "dteday        False\n",
       "season        False\n",
       "yr            False\n",
       "month         False\n",
       "hour          False\n",
       "holiday       False\n",
       "weekday       False\n",
       "workingday    False\n",
       "weather       False\n",
       "temp          False\n",
       "atemp         False\n",
       "humidity      False\n",
       "windspeed     False\n",
       "casual        False\n",
       "registered    False\n",
       "count         False\n",
       "dtype: bool"
      ]
     },
     "execution_count": 8,
     "metadata": {},
     "output_type": "execute_result"
    }
   ],
   "source": [
    "data.isnull().any()"
   ]
  },
  {
   "cell_type": "code",
   "execution_count": 9,
   "metadata": {
    "scrolled": true
   },
   "outputs": [
    {
     "data": {
      "text/plain": [
       "[Text(0.5, 1.0, 'Monthly distribution')]"
      ]
     },
     "execution_count": 9,
     "metadata": {},
     "output_type": "execute_result"
    },
    {
     "data": {
      "image/png": "[encoded data removed]",
      "text/plain": [
       "<Figure size 1440x720 with 1 Axes>"
      ]
     },
     "metadata": {
      "needs_background": "light"
     },
     "output_type": "display_data"
    }
   ],
   "source": [
    "fig, ax = plt.subplots(figsize=(20,10))\n",
    "sn.barplot(data=data[['month',\n",
    "                      'count']],\n",
    "            x='month', y='count')\n",
    "ax.set(title=\"Monthly distribution\")"
   ]
  },
  {
   "cell_type": "code",
   "execution_count": 10,
   "metadata": {
    "scrolled": true
   },
   "outputs": [
    {
     "data": {
      "text/plain": [
       "[Text(0.5, 1.0, 'Daily distribution')]"
      ]
     },
     "execution_count": 10,
     "metadata": {},
     "output_type": "execute_result"
    },
    {
     "data": {
      "image/png": "[encoded data removed]",
      "text/plain": [
       "<Figure size 1440x720 with 1 Axes>"
      ]
     },
     "metadata": {
      "needs_background": "light"
     },
     "output_type": "display_data"
    }
   ],
   "source": [
    "fig, ax = plt.subplots(figsize=(20,10))\n",
    "sn.barplot(data=data[['weekday',\n",
    "                      'count']],\n",
    "            x='weekday', y='count')\n",
    "ax.set(title=\"Daily distribution\")"
   ]
  },
  {
   "cell_type": "code",
   "execution_count": 10,
   "metadata": {},
   "outputs": [
    {
     "data": {
      "text/plain": [
       "<matplotlib.axes._subplots.AxesSubplot at 0x23172630e10>"
      ]
     },
     "execution_count": 10,
     "metadata": {},
     "output_type": "execute_result"
    },
    {
     "data": {
      "image/png": "[encoded data removed]",
      "text/plain": [
       "<Figure size 1440x720 with 2 Axes>"
      ]
     },
     "metadata": {
      "needs_background": "light"
     },
     "output_type": "display_data"
    }
   ],
   "source": [
    "data_correlation = data[['temp', 'atemp', 'casual', 'registered', 'humidity', 'windspeed', 'count']].corr()\n",
    "mask = np.array(data_correlation)\n",
    "mask[np.tril_indices_from(mask)] = False\n",
    "fig = plt.subplots(figsize=(20,10))\n",
    "sn.heatmap(data_correlation, mask=mask, vmax=1, square=True, annot=True)"
   ]
  },
  {
   "cell_type": "code",
   "execution_count": 11,
   "metadata": {},
   "outputs": [],
   "source": [
    "data = data.drop(['instant','dteday','yr',  'casual', 'registered', 'windspeed'], axis=1)"
   ]
  },
  {
   "cell_type": "markdown",
   "metadata": {},
   "source": [
    "drop registered กับ count เพราะ อยากทำนายแค่ count\n",
    ",temp กับ atemp มีcorrelationสูง จึงdropไปอันนึง    \n",
    "windspeed correlationต่ำ กับ count "
   ]
  },
  {
   "cell_type": "code",
   "execution_count": 12,
   "metadata": {},
   "outputs": [
    {
     "data": {
      "text/plain": [
       "(17379, 11)"
      ]
     },
     "execution_count": 12,
     "metadata": {},
     "output_type": "execute_result"
    }
   ],
   "source": [
    "data.shape"
   ]
  },
  {
   "cell_type": "code",
   "execution_count": 13,
   "metadata": {},
   "outputs": [
    {
     "data": {
      "text/html": [
       "<div>\n",
       "<style scoped>\n",
       "    .dataframe tbody tr th:only-of-type {\n",
       "        vertical-align: middle;\n",
       "    }\n",
       "\n",
       "    .dataframe tbody tr th {\n",
       "        vertical-align: top;\n",
       "    }\n",
       "\n",
       "    .dataframe thead th {\n",
       "        text-align: right;\n",
       "    }\n",
       "</style>\n",
       "<table border=\"1\" class=\"dataframe\">\n",
       "  <thead>\n",
       "    <tr style=\"text-align: right;\">\n",
       "      <th></th>\n",
       "      <th>season</th>\n",
       "      <th>month</th>\n",
       "      <th>hour</th>\n",
       "      <th>holiday</th>\n",
       "      <th>weekday</th>\n",
       "      <th>workingday</th>\n",
       "      <th>weather</th>\n",
       "      <th>temp</th>\n",
       "      <th>atemp</th>\n",
       "      <th>humidity</th>\n",
       "      <th>count</th>\n",
       "    </tr>\n",
       "  </thead>\n",
       "  <tbody>\n",
       "    <tr>\n",
       "      <th>0</th>\n",
       "      <td>1</td>\n",
       "      <td>1</td>\n",
       "      <td>0</td>\n",
       "      <td>0</td>\n",
       "      <td>6</td>\n",
       "      <td>0</td>\n",
       "      <td>1</td>\n",
       "      <td>0.24</td>\n",
       "      <td>0.2879</td>\n",
       "      <td>0.81</td>\n",
       "      <td>16</td>\n",
       "    </tr>\n",
       "    <tr>\n",
       "      <th>1</th>\n",
       "      <td>1</td>\n",
       "      <td>1</td>\n",
       "      <td>1</td>\n",
       "      <td>0</td>\n",
       "      <td>6</td>\n",
       "      <td>0</td>\n",
       "      <td>1</td>\n",
       "      <td>0.22</td>\n",
       "      <td>0.2727</td>\n",
       "      <td>0.80</td>\n",
       "      <td>40</td>\n",
       "    </tr>\n",
       "    <tr>\n",
       "      <th>2</th>\n",
       "      <td>1</td>\n",
       "      <td>1</td>\n",
       "      <td>2</td>\n",
       "      <td>0</td>\n",
       "      <td>6</td>\n",
       "      <td>0</td>\n",
       "      <td>1</td>\n",
       "      <td>0.22</td>\n",
       "      <td>0.2727</td>\n",
       "      <td>0.80</td>\n",
       "      <td>32</td>\n",
       "    </tr>\n",
       "    <tr>\n",
       "      <th>3</th>\n",
       "      <td>1</td>\n",
       "      <td>1</td>\n",
       "      <td>3</td>\n",
       "      <td>0</td>\n",
       "      <td>6</td>\n",
       "      <td>0</td>\n",
       "      <td>1</td>\n",
       "      <td>0.24</td>\n",
       "      <td>0.2879</td>\n",
       "      <td>0.75</td>\n",
       "      <td>13</td>\n",
       "    </tr>\n",
       "    <tr>\n",
       "      <th>4</th>\n",
       "      <td>1</td>\n",
       "      <td>1</td>\n",
       "      <td>4</td>\n",
       "      <td>0</td>\n",
       "      <td>6</td>\n",
       "      <td>0</td>\n",
       "      <td>1</td>\n",
       "      <td>0.24</td>\n",
       "      <td>0.2879</td>\n",
       "      <td>0.75</td>\n",
       "      <td>1</td>\n",
       "    </tr>\n",
       "  </tbody>\n",
       "</table>\n",
       "</div>"
      ],
      "text/plain": [
       "  season month hour holiday weekday workingday weather  temp   atemp  \\\n",
       "0      1     1    0       0       6          0       1  0.24  0.2879   \n",
       "1      1     1    1       0       6          0       1  0.22  0.2727   \n",
       "2      1     1    2       0       6          0       1  0.22  0.2727   \n",
       "3      1     1    3       0       6          0       1  0.24  0.2879   \n",
       "4      1     1    4       0       6          0       1  0.24  0.2879   \n",
       "\n",
       "   humidity  count  \n",
       "0      0.81     16  \n",
       "1      0.80     40  \n",
       "2      0.80     32  \n",
       "3      0.75     13  \n",
       "4      0.75      1  "
      ]
     },
     "execution_count": 13,
     "metadata": {},
     "output_type": "execute_result"
    }
   ],
   "source": [
    "data.head()"
   ]
  },
  {
   "cell_type": "code",
   "execution_count": 14,
   "metadata": {},
   "outputs": [
    {
     "data": {
      "text/plain": [
       "Index(['temp', 'atemp', 'humidity', 'count', 'season_2', 'season_3',\n",
       "       'season_4', 'month_2', 'month_3', 'month_4', 'month_5', 'month_6',\n",
       "       'month_7', 'month_8', 'month_9', 'month_10', 'month_11', 'month_12',\n",
       "       'hour_1', 'hour_2', 'hour_3', 'hour_4', 'hour_5', 'hour_6', 'hour_7',\n",
       "       'hour_8', 'hour_9', 'hour_10', 'hour_11', 'hour_12', 'hour_13',\n",
       "       'hour_14', 'hour_15', 'hour_16', 'hour_17', 'hour_18', 'hour_19',\n",
       "       'hour_20', 'hour_21', 'hour_22', 'hour_23', 'holiday_1', 'weekday_1',\n",
       "       'weekday_2', 'weekday_3', 'weekday_4', 'weekday_5', 'weekday_6',\n",
       "       'workingday_1', 'weather_2', 'weather_3', 'weather_4'],\n",
       "      dtype='object')"
      ]
     },
     "execution_count": 14,
     "metadata": {},
     "output_type": "execute_result"
    }
   ],
   "source": [
    "data_dummy = data\n",
    "def dummify_dataset(df, column):       \n",
    "    df = pd.concat([df, pd.get_dummies(df[column], prefix=column, drop_first=True)],axis=1)\n",
    "    df = df.drop([column], axis=1)\n",
    "    return df\n",
    "columns_to_dummify = ['season', 'month', 'hour', 'holiday', 'weekday', 'workingday', 'weather']\n",
    "for column in columns_to_dummify:\n",
    "    data_dummy = dummify_dataset(data_dummy, column)\n",
    "data_dummy.columns"
   ]
  },
  {
   "cell_type": "code",
   "execution_count": 15,
   "metadata": {},
   "outputs": [
    {
     "name": "stderr",
     "output_type": "stream",
     "text": [
      "C:\\Users\\peravit2\\Anaconda3\\lib\\site-packages\\ipykernel_launcher.py:1: MatplotlibDeprecationWarning: \n",
      "The 'normed' kwarg was deprecated in Matplotlib 2.1 and will be removed in 3.1. Use 'density' instead.\n",
      "  \"\"\"Entry point for launching an IPython kernel.\n",
      "C:\\Users\\peravit2\\Anaconda3\\lib\\site-packages\\ipykernel_launcher.py:2: MatplotlibDeprecationWarning: \n",
      "The 'normed' kwarg was deprecated in Matplotlib 2.1 and will be removed in 3.1. Use 'density' instead.\n",
      "  \n"
     ]
    },
    {
     "data": {
      "text/plain": [
       "(array([0.01323436, 0.03164739, 0.40048334, 0.85217792, 1.51965015,\n",
       "        1.7745555 , 1.69169688, 1.37177053, 1.66868059, 0.67610334]),\n",
       " array([0. , 0.1, 0.2, 0.3, 0.4, 0.5, 0.6, 0.7, 0.8, 0.9, 1. ]),\n",
       " <a list of 10 Patch objects>)"
      ]
     },
     "execution_count": 15,
     "metadata": {},
     "output_type": "execute_result"
    },
    {
     "data": {
      "image/png": "[encoded data removed]",
      "text/plain": [
       "<Figure size 432x288 with 1 Axes>"
      ]
     },
     "metadata": {
      "needs_background": "light"
     },
     "output_type": "display_data"
    }
   ],
   "source": [
    "plt.hist(data_dummy['atemp'], normed=True, alpha=0.5)\n",
    "plt.hist(data_dummy['humidity'], normed=True, alpha=0.5)"
   ]
  },
  {
   "cell_type": "code",
   "execution_count": 16,
   "metadata": {},
   "outputs": [],
   "source": [
    "X = data_dummy.drop(['count'], axis=1)\n",
    "\n",
    "y = data_dummy[\"count\"]"
   ]
  },
  {
   "cell_type": "code",
   "execution_count": 17,
   "metadata": {},
   "outputs": [],
   "source": [
    "X_train, X_test, y_train, y_test = train_test_split(X, y, test_size=0.2, random_state=0)\n",
    "sc = StandardScaler()\n",
    "X_train = sc.fit_transform(X_train)\n",
    "X_test = sc.transform(X_test)"
   ]
  },
  {
   "cell_type": "code",
   "execution_count": 18,
   "metadata": {},
   "outputs": [
    {
     "data": {
      "text/plain": [
       "(17379, 51)"
      ]
     },
     "execution_count": 18,
     "metadata": {},
     "output_type": "execute_result"
    }
   ],
   "source": [
    "X.shape"
   ]
  },
  {
   "cell_type": "code",
   "execution_count": 19,
   "metadata": {},
   "outputs": [
    {
     "name": "stderr",
     "output_type": "stream",
     "text": [
      "WARNING: Logging before flag parsing goes to stderr.\n",
      "W0916 00:43:32.068922  1316 deprecation_wrapper.py:119] From C:\\Users\\peravit2\\Anaconda3\\lib\\site-packages\\keras\\backend\\tensorflow_backend.py:66: The name tf.get_default_graph is deprecated. Please use tf.compat.v1.get_default_graph instead.\n",
      "\n",
      "W0916 00:43:32.141706  1316 deprecation_wrapper.py:119] From C:\\Users\\peravit2\\Anaconda3\\lib\\site-packages\\keras\\backend\\tensorflow_backend.py:541: The name tf.placeholder is deprecated. Please use tf.compat.v1.placeholder instead.\n",
      "\n",
      "W0916 00:43:32.155669  1316 deprecation_wrapper.py:119] From C:\\Users\\peravit2\\Anaconda3\\lib\\site-packages\\keras\\backend\\tensorflow_backend.py:4409: The name tf.random_normal is deprecated. Please use tf.random.normal instead.\n",
      "\n",
      "W0916 00:43:32.186586  1316 deprecation_wrapper.py:119] From C:\\Users\\peravit2\\Anaconda3\\lib\\site-packages\\keras\\backend\\tensorflow_backend.py:4432: The name tf.random_uniform is deprecated. Please use tf.random.uniform instead.\n",
      "\n"
     ]
    }
   ],
   "source": [
    "classifier = Sequential()\n",
    "classifier.add(Dense(units = 20 , kernel_initializer = 'normal', activation = 'relu', input_dim = 51))\n",
    "classifier.add(Dense(units = 18, activation = 'relu'))\n",
    "classifier.add(Dense(units = 10, activation = 'relu'))\n",
    "classifier.add(Dense(units = 1))"
   ]
  },
  {
   "cell_type": "code",
   "execution_count": 20,
   "metadata": {},
   "outputs": [
    {
     "name": "stderr",
     "output_type": "stream",
     "text": [
      "W0916 00:43:34.106906  1316 deprecation_wrapper.py:119] From C:\\Users\\peravit2\\Anaconda3\\lib\\site-packages\\keras\\optimizers.py:793: The name tf.train.Optimizer is deprecated. Please use tf.compat.v1.train.Optimizer instead.\n",
      "\n"
     ]
    }
   ],
   "source": [
    "classifier.compile(optimizer = 'adam', loss = 'mean_squared_error', metrics = ['mse'])"
   ]
  },
  {
   "cell_type": "code",
   "execution_count": 21,
   "metadata": {},
   "outputs": [
    {
     "name": "stderr",
     "output_type": "stream",
     "text": [
      "W0916 00:43:34.556619  1316 deprecation_wrapper.py:119] From C:\\Users\\peravit2\\Anaconda3\\lib\\site-packages\\keras\\backend\\tensorflow_backend.py:1033: The name tf.assign_add is deprecated. Please use tf.compat.v1.assign_add instead.\n",
      "\n"
     ]
    },
    {
     "name": "stdout",
     "output_type": "stream",
     "text": [
      "Epoch 1/100\n",
      "13903/13903 [==============================] - 9s 666us/step - loss: 19177.2831 - mean_squared_error: 19177.2831\n",
      "Epoch 2/100\n",
      "13903/13903 [==============================] - 5s 327us/step - loss: 7724.3462 - mean_squared_error: 7724.3462\n",
      "Epoch 3/100\n",
      "13903/13903 [==============================] - 4s 305us/step - loss: 6164.3210 - mean_squared_error: 6164.3210\n",
      "Epoch 4/100\n",
      "13903/13903 [==============================] - 4s 301us/step - loss: 5787.4275 - mean_squared_error: 5787.4275\n",
      "Epoch 5/100\n",
      "13903/13903 [==============================] - 4s 286us/step - loss: 5635.4844 - mean_squared_error: 5635.4844\n",
      "Epoch 6/100\n",
      "13903/13903 [==============================] - 4s 300us/step - loss: 5536.2150 - mean_squared_error: 5536.2150\n",
      "Epoch 7/100\n",
      "13903/13903 [==============================] - 4s 301us/step - loss: 5475.7804 - mean_squared_error: 5475.7804\n",
      "Epoch 8/100\n",
      "13903/13903 [==============================] - 4s 277us/step - loss: 5386.1402 - mean_squared_error: 5386.1402\n",
      "Epoch 9/100\n",
      "13903/13903 [==============================] - 4s 273us/step - loss: 5313.0103 - mean_squared_error: 5313.0103\n",
      "Epoch 10/100\n",
      "13903/13903 [==============================] - 4s 274us/step - loss: 5287.9853 - mean_squared_error: 5287.9853\n",
      "Epoch 11/100\n",
      "13903/13903 [==============================] - 4s 274us/step - loss: 5222.0159 - mean_squared_error: 5222.0159\n",
      "Epoch 12/100\n",
      "13903/13903 [==============================] - 4s 294us/step - loss: 5156.5336 - mean_squared_error: 5156.5336\n",
      "Epoch 13/100\n",
      "13903/13903 [==============================] - 5s 340us/step - loss: 5106.9717 - mean_squared_error: 5106.9717\n",
      "Epoch 14/100\n",
      "13903/13903 [==============================] - 5s 344us/step - loss: 5025.1905 - mean_squared_error: 5025.1905\n",
      "Epoch 15/100\n",
      "13903/13903 [==============================] - 5s 336us/step - loss: 4999.0497 - mean_squared_error: 4999.0497\n",
      "Epoch 16/100\n",
      "13903/13903 [==============================] - 4s 322us/step - loss: 4973.1475 - mean_squared_error: 4973.1475\n",
      "Epoch 17/100\n",
      "13903/13903 [==============================] - 4s 306us/step - loss: 4926.4608 - mean_squared_error: 4926.4608\n",
      "Epoch 18/100\n",
      "13903/13903 [==============================] - 4s 306us/step - loss: 4888.9331 - mean_squared_error: 4888.9331\n",
      "Epoch 19/100\n",
      "13903/13903 [==============================] - 5s 339us/step - loss: 4836.7205 - mean_squared_error: 4836.7205\n",
      "Epoch 20/100\n",
      "13903/13903 [==============================] - 5s 336us/step - loss: 4824.9469 - mean_squared_error: 4824.9469\n",
      "Epoch 21/100\n",
      "13903/13903 [==============================] - 5s 327us/step - loss: 4777.7325 - mean_squared_error: 4777.7325\n",
      "Epoch 22/100\n",
      "13903/13903 [==============================] - 5s 327us/step - loss: 4754.5902 - mean_squared_error: 4754.5902\n",
      "Epoch 23/100\n",
      "13903/13903 [==============================] - 5s 332us/step - loss: 4747.1041 - mean_squared_error: 4747.1041\n",
      "Epoch 24/100\n",
      "13903/13903 [==============================] - 5s 327us/step - loss: 4678.5957 - mean_squared_error: 4678.5957\n",
      "Epoch 25/100\n",
      "13903/13903 [==============================] - 5s 328us/step - loss: 4675.8119 - mean_squared_error: 4675.8119\n",
      "Epoch 26/100\n",
      "13903/13903 [==============================] - 5s 327us/step - loss: 4611.4161 - mean_squared_error: 4611.4161\n",
      "Epoch 27/100\n",
      "13903/13903 [==============================] - 5s 328us/step - loss: 4597.4510 - mean_squared_error: 4597.4510\n",
      "Epoch 28/100\n",
      "13903/13903 [==============================] - 5s 331us/step - loss: 4543.8456 - mean_squared_error: 4543.8456\n",
      "Epoch 29/100\n",
      "13903/13903 [==============================] - 5s 329us/step - loss: 4589.9583 - mean_squared_error: 4589.9583\n",
      "Epoch 30/100\n",
      "13903/13903 [==============================] - 5s 328us/step - loss: 4517.1452 - mean_squared_error: 4517.1452\n",
      "Epoch 31/100\n",
      "13903/13903 [==============================] - 5s 324us/step - loss: 4536.7225 - mean_squared_error: 4536.7225\n",
      "Epoch 32/100\n",
      "13903/13903 [==============================] - 5s 335us/step - loss: 4471.1167 - mean_squared_error: 4471.1167\n",
      "Epoch 33/100\n",
      "13903/13903 [==============================] - 5s 336us/step - loss: 4462.1773 - mean_squared_error: 4462.1773\n",
      "Epoch 34/100\n",
      "13903/13903 [==============================] - 5s 336us/step - loss: 4422.6078 - mean_squared_error: 4422.6078\n",
      "Epoch 35/100\n",
      "13903/13903 [==============================] - 5s 328us/step - loss: 4428.4038 - mean_squared_error: 4428.4038\n",
      "Epoch 36/100\n",
      "13903/13903 [==============================] - 5s 328us/step - loss: 4421.7384 - mean_squared_error: 4421.7384\n",
      "Epoch 37/100\n",
      "13903/13903 [==============================] - 5s 326us/step - loss: 4382.2771 - mean_squared_error: 4382.2771\n",
      "Epoch 38/100\n",
      "13903/13903 [==============================] - 5s 324us/step - loss: 4395.9960 - mean_squared_error: 4395.9960\n",
      "Epoch 39/100\n",
      "13903/13903 [==============================] - 5s 327us/step - loss: 4361.1837 - mean_squared_error: 4361.1837\n",
      "Epoch 40/100\n",
      "13903/13903 [==============================] - 5s 326us/step - loss: 4363.0486 - mean_squared_error: 4363.0486\n",
      "Epoch 41/100\n",
      "13903/13903 [==============================] - 5s 325us/step - loss: 4324.6424 - mean_squared_error: 4324.6424\n",
      "Epoch 42/100\n",
      "13903/13903 [==============================] - 5s 352us/step - loss: 4310.9069 - mean_squared_error: 4310.9069\n",
      "Epoch 43/100\n",
      "13903/13903 [==============================] - 4s 307us/step - loss: 4308.3658 - mean_squared_error: 4308.3658\n",
      "Epoch 44/100\n",
      "13903/13903 [==============================] - 5s 330us/step - loss: 4288.3891 - mean_squared_error: 4288.3891\n",
      "Epoch 45/100\n",
      "13903/13903 [==============================] - 4s 315us/step - loss: 4285.9205 - mean_squared_error: 4285.9205\n",
      "Epoch 46/100\n",
      "13903/13903 [==============================] - 5s 335us/step - loss: 4272.8705 - mean_squared_error: 4272.8705\n",
      "Epoch 47/100\n",
      "13903/13903 [==============================] - 5s 331us/step - loss: 4249.1557 - mean_squared_error: 4249.1557\n",
      "Epoch 48/100\n",
      "13903/13903 [==============================] - 5s 328us/step - loss: 4266.7136 - mean_squared_error: 4266.7136\n",
      "Epoch 49/100\n",
      "13903/13903 [==============================] - 5s 327us/step - loss: 4237.5298 - mean_squared_error: 4237.5298\n",
      "Epoch 50/100\n",
      "13903/13903 [==============================] - 5s 333us/step - loss: 4257.8937 - mean_squared_error: 4257.8937\n",
      "Epoch 51/100\n",
      "13903/13903 [==============================] - 5s 325us/step - loss: 4232.6137 - mean_squared_error: 4232.6137\n",
      "Epoch 52/100\n",
      "13903/13903 [==============================] - 5s 328us/step - loss: 4234.0708 - mean_squared_error: 4234.0708\n",
      "Epoch 53/100\n",
      "13903/13903 [==============================] - 5s 325us/step - loss: 4195.6989 - mean_squared_error: 4195.6989\n",
      "Epoch 54/100\n",
      "13903/13903 [==============================] - 5s 330us/step - loss: 4204.3722 - mean_squared_error: 4204.3722\n",
      "Epoch 55/100\n",
      "13903/13903 [==============================] - 5s 330us/step - loss: 4192.9299 - mean_squared_error: 4192.9299\n",
      "Epoch 56/100\n",
      "13903/13903 [==============================] - 5s 329us/step - loss: 4187.5865 - mean_squared_error: 4187.5865\n",
      "Epoch 57/100\n",
      "13903/13903 [==============================] - 4s 321us/step - loss: 4192.6378 - mean_squared_error: 4192.6378\n",
      "Epoch 58/100\n",
      "13903/13903 [==============================] - 4s 322us/step - loss: 4197.5841 - mean_squared_error: 4197.5841\n",
      "Epoch 59/100\n",
      "13903/13903 [==============================] - 5s 324us/step - loss: 4186.7107 - mean_squared_error: 4186.7107\n",
      "Epoch 60/100\n",
      "13903/13903 [==============================] - 5s 326us/step - loss: 4178.7931 - mean_squared_error: 4178.7931\n",
      "Epoch 61/100\n",
      "13903/13903 [==============================] - 5s 325us/step - loss: 4166.8173 - mean_squared_error: 4166.8173\n",
      "Epoch 62/100\n",
      "13903/13903 [==============================] - 4s 322us/step - loss: 4160.9168 - mean_squared_error: 4160.9168\n",
      "Epoch 63/100\n",
      "13903/13903 [==============================] - 5s 326us/step - loss: 4147.0777 - mean_squared_error: 4147.0777\n",
      "Epoch 64/100\n",
      "13903/13903 [==============================] - 4s 319us/step - loss: 4170.9231 - mean_squared_error: 4170.9231\n",
      "Epoch 65/100\n",
      "13903/13903 [==============================] - 4s 320us/step - loss: 4127.3054 - mean_squared_error: 4127.3054\n",
      "Epoch 66/100\n",
      "13903/13903 [==============================] - 5s 324us/step - loss: 4148.7559 - mean_squared_error: 4148.7559\n",
      "Epoch 67/100\n",
      "13903/13903 [==============================] - 4s 322us/step - loss: 4144.6407 - mean_squared_error: 4144.6407\n",
      "Epoch 68/100\n",
      "13903/13903 [==============================] - 5s 329us/step - loss: 4128.7018 - mean_squared_error: 4128.7018\n",
      "Epoch 69/100\n",
      "13903/13903 [==============================] - 5s 330us/step - loss: 4123.3041 - mean_squared_error: 4123.3041\n",
      "Epoch 70/100\n",
      "13903/13903 [==============================] - 4s 320us/step - loss: 4112.6900 - mean_squared_error: 4112.6900\n",
      "Epoch 71/100\n",
      "13903/13903 [==============================] - 4s 323us/step - loss: 4114.5291 - mean_squared_error: 4114.5291\n",
      "Epoch 72/100\n",
      "13903/13903 [==============================] - ETA: 0s - loss: 4109.5678 - mean_squared_error: 4109.56 - 5s 325us/step - loss: 4105.1686 - mean_squared_error: 4105.1686\n",
      "Epoch 73/100\n",
      "13903/13903 [==============================] - 4s 322us/step - loss: 4117.0722 - mean_squared_error: 4117.0722\n",
      "Epoch 74/100\n",
      "13903/13903 [==============================] - 4s 320us/step - loss: 4099.5462 - mean_squared_error: 4099.5462\n",
      "Epoch 75/100\n",
      "13903/13903 [==============================] - 4s 320us/step - loss: 4104.5460 - mean_squared_error: 4104.5460\n",
      "Epoch 76/100\n",
      "13903/13903 [==============================] - 5s 327us/step - loss: 4090.3933 - mean_squared_error: 4090.3933\n",
      "Epoch 77/100\n",
      "13903/13903 [==============================] - 5s 328us/step - loss: 4086.3226 - mean_squared_error: 4086.3226\n",
      "Epoch 78/100\n",
      "13903/13903 [==============================] - 5s 324us/step - loss: 4069.7179 - mean_squared_error: 4069.7179\n",
      "Epoch 79/100\n",
      "13903/13903 [==============================] - 4s 323us/step - loss: 4074.0370 - mean_squared_error: 4074.0370\n",
      "Epoch 80/100\n",
      "13903/13903 [==============================] - 5s 327us/step - loss: 4076.7888 - mean_squared_error: 4076.7888\n",
      "Epoch 81/100\n",
      "13903/13903 [==============================] - 5s 327us/step - loss: 4066.7322 - mean_squared_error: 4066.7322\n",
      "Epoch 82/100\n",
      "13903/13903 [==============================] - 5s 326us/step - loss: 4077.3490 - mean_squared_error: 4077.3490\n",
      "Epoch 83/100\n",
      "13903/13903 [==============================] - 4s 323us/step - loss: 4069.7793 - mean_squared_error: 4069.7793\n",
      "Epoch 84/100\n",
      "13903/13903 [==============================] - 5s 326us/step - loss: 4061.6444 - mean_squared_error: 4061.6444\n",
      "Epoch 85/100\n",
      "13903/13903 [==============================] - 5s 326us/step - loss: 4051.6125 - mean_squared_error: 4051.6125\n",
      "Epoch 86/100\n",
      "13903/13903 [==============================] - 4s 319us/step - loss: 4045.5301 - mean_squared_error: 4045.5301\n",
      "Epoch 87/100\n",
      "13903/13903 [==============================] - 4s 320us/step - loss: 4032.2544 - mean_squared_error: 4032.2544\n",
      "Epoch 88/100\n",
      "13903/13903 [==============================] - 4s 317us/step - loss: 4018.4516 - mean_squared_error: 4018.4516\n",
      "Epoch 89/100\n",
      "13903/13903 [==============================] - 4s 318us/step - loss: 4064.5578 - mean_squared_error: 4064.5578\n",
      "Epoch 90/100\n",
      "13903/13903 [==============================] - 4s 320us/step - loss: 4025.3892 - mean_squared_error: 4025.3892\n",
      "Epoch 91/100\n",
      "13903/13903 [==============================] - 4s 319us/step - loss: 4024.8277 - mean_squared_error: 4024.8277\n",
      "Epoch 92/100\n",
      "13903/13903 [==============================] - 4s 321us/step - loss: 3998.2627 - mean_squared_error: 3998.2627\n",
      "Epoch 93/100\n",
      "13903/13903 [==============================] - 4s 322us/step - loss: 4020.5766 - mean_squared_error: 4020.5766\n",
      "Epoch 94/100\n",
      "13903/13903 [==============================] - 4s 320us/step - loss: 4000.7718 - mean_squared_error: 4000.7718\n",
      "Epoch 95/100\n",
      "13903/13903 [==============================] - 4s 321us/step - loss: 4019.9296 - mean_squared_error: 4019.9296\n",
      "Epoch 96/100\n",
      "13903/13903 [==============================] - 4s 321us/step - loss: 3982.4455 - mean_squared_error: 3982.4455\n",
      "Epoch 97/100\n",
      "13903/13903 [==============================] - 5s 330us/step - loss: 3969.2275 - mean_squared_error: 3969.2275\n",
      "Epoch 98/100\n",
      "13903/13903 [==============================] - 5s 348us/step - loss: 4001.8773 - mean_squared_error: 4001.8773\n",
      "Epoch 99/100\n",
      "13903/13903 [==============================] - 5s 329us/step - loss: 3969.4538 - mean_squared_error: 3969.4538\n",
      "Epoch 100/100\n",
      "13903/13903 [==============================] - 5s 325us/step - loss: 3948.8398 - mean_squared_error: 3948.8398\n"
     ]
    },
    {
     "data": {
      "text/plain": [
       "<keras.callbacks.History at 0x23172567dd8>"
      ]
     },
     "execution_count": 21,
     "metadata": {},
     "output_type": "execute_result"
    }
   ],
   "source": [
    "classifier.fit(X_train, y_train, batch_size = 10, epochs = 100)"
   ]
  },
  {
   "cell_type": "code",
   "execution_count": 22,
   "metadata": {},
   "outputs": [],
   "source": [
    "y_pred = classifier.predict(X_test)"
   ]
  },
  {
   "cell_type": "code",
   "execution_count": 23,
   "metadata": {},
   "outputs": [
    {
     "data": {
      "text/plain": [
       "4854.044455686573"
      ]
     },
     "execution_count": 23,
     "metadata": {},
     "output_type": "execute_result"
    }
   ],
   "source": [
    "mean_squared_error(y_test, y_pred)"
   ]
  },
  {
   "cell_type": "code",
   "execution_count": 27,
   "metadata": {},
   "outputs": [
    {
     "data": {
      "image/png": "[encoded data removed]",
      "text/plain": [
       "<Figure size 432x288 with 1 Axes>"
      ]
     },
     "metadata": {
      "needs_background": "light"
     },
     "output_type": "display_data"
    }
   ],
   "source": [
    "fig, ax = plt.subplots()\n",
    "ax.scatter(y_test, y_pred)\n",
    "ax.plot([y_test.min(), y_test.max()], [y_test.min(), y_test.max()], 'k--', lw=4)\n",
    "ax.set_xlabel('Measured')\n",
    "ax.set_ylabel('Predicted')\n",
    "plt.show()"
   ]
  },
  {
   "cell_type": "markdown",
   "metadata": {},
   "source": [
    "# Improve performance\n"
   ]
  },
  {
   "cell_type": "markdown",
   "metadata": {},
   "source": [
    "### คัดเลือก feature ใหม่"
   ]
  },
  {
   "cell_type": "code",
   "execution_count": 29,
   "metadata": {},
   "outputs": [],
   "source": [
    "data=pd.read_csv('hour.csv')"
   ]
  },
  {
   "cell_type": "code",
   "execution_count": 30,
   "metadata": {},
   "outputs": [],
   "source": [
    "data = data.drop(['instant' , 'dteday' ] , axis=1    )"
   ]
  },
  {
   "cell_type": "code",
   "execution_count": 31,
   "metadata": {},
   "outputs": [],
   "source": [
    "x = data.iloc[:, 0:12]"
   ]
  },
  {
   "cell_type": "code",
   "execution_count": 32,
   "metadata": {},
   "outputs": [
    {
     "data": {
      "text/plain": [
       "Index(['season', 'yr', 'mnth', 'hr', 'holiday', 'weekday', 'workingday',\n",
       "       'weathersit', 'temp', 'atemp', 'hum', 'windspeed'],\n",
       "      dtype='object')"
      ]
     },
     "execution_count": 32,
     "metadata": {},
     "output_type": "execute_result"
    }
   ],
   "source": [
    "x.columns"
   ]
  },
  {
   "cell_type": "code",
   "execution_count": 33,
   "metadata": {},
   "outputs": [],
   "source": [
    "y= data.iloc[: , 12:14].values"
   ]
  },
  {
   "cell_type": "code",
   "execution_count": 34,
   "metadata": {},
   "outputs": [],
   "source": [
    "#le_season = LabelEncoder()  ## แปลงcat เป็น numerical \n",
    "#x[:, 0] = le_season.fit_transform(x[:, 0])\n",
    "#le_mnth = LabelEncoder()\n",
    "#x[:, 1] = le_mnth.fit_transform(x[:, 1])\n",
    "#le_hr = LabelEncoder()\n",
    "#x[:, 2] = le_hr.fit_transform(x[:, 2])\n",
    "#e_weekday = LabelEncoder()\n",
    "#x[:, 4] = le_weekday.fit_transform(x[:, 4])\n",
    "#le_weathersit = LabelEncoder()\n",
    "#x[:, 6] = le_weathersit.fit_transform(x[:, 6])"
   ]
  },
  {
   "cell_type": "code",
   "execution_count": 35,
   "metadata": {},
   "outputs": [
    {
     "name": "stderr",
     "output_type": "stream",
     "text": [
      "C:\\Users\\peravit2\\Anaconda3\\lib\\site-packages\\sklearn\\preprocessing\\_encoders.py:415: FutureWarning: The handling of integer data will change in version 0.22. Currently, the categories are determined based on the range [0, max(values)], while in the future they will be determined based on the unique values.\n",
      "If you want the future behaviour and silence this warning, you can specify \"categories='auto'\".\n",
      "In case you used a LabelEncoder before this OneHotEncoder to convert the categories to integers, then you can now use the OneHotEncoder directly.\n",
      "  warnings.warn(msg, FutureWarning)\n",
      "C:\\Users\\peravit2\\Anaconda3\\lib\\site-packages\\sklearn\\preprocessing\\_encoders.py:451: DeprecationWarning: The 'categorical_features' keyword is deprecated in version 0.20 and will be removed in 0.22. You can use the ColumnTransformer instead.\n",
      "  \"use the ColumnTransformer instead.\", DeprecationWarning)\n"
     ]
    }
   ],
   "source": [
    "ohe = OneHotEncoder(categorical_features = [0,2,3,5,7])  ## ทำให้เป็น binary : year, holiday ,working day\n",
    "x = ohe.fit_transform(x).toarray()\n"
   ]
  },
  {
   "cell_type": "code",
   "execution_count": 36,
   "metadata": {},
   "outputs": [],
   "source": [
    "x_train, x_test, y_train, y_test = train_test_split(x, y, test_size = 0.2, random_state = 0)\n",
    "sc = StandardScaler()\n",
    "x_train = sc.fit_transform(x_train)\n",
    "x_test = sc.transform(x_test)"
   ]
  },
  {
   "cell_type": "code",
   "execution_count": 37,
   "metadata": {},
   "outputs": [
    {
     "data": {
      "text/plain": [
       "array([[-0.57106566,  1.71031679, -0.58933902, ...,  0.31171606,\n",
       "         1.31751766,  0.27350893],\n",
       "       [-0.57106566, -0.58468701, -0.58933902, ..., -0.21784314,\n",
       "         1.31751766, -1.55552756],\n",
       "       [-0.57106566, -0.58468701, -0.58933902, ..., -0.21784314,\n",
       "        -0.60381308, -0.45843243],\n",
       "       ...,\n",
       "       [-0.57106566, -0.58468701,  1.69681622, ...,  0.66475553,\n",
       "         0.53859979, -0.70186828],\n",
       "       [ 1.75111213, -0.58468701, -0.58933902, ..., -1.36551269,\n",
       "         0.38281622, -0.70186828],\n",
       "       [-0.57106566, -0.58468701, -0.58933902, ..., -1.10044181,\n",
       "        -0.34417379,  0.27350893]])"
      ]
     },
     "execution_count": 37,
     "metadata": {},
     "output_type": "execute_result"
    }
   ],
   "source": [
    "x_test"
   ]
  },
  {
   "cell_type": "code",
   "execution_count": 41,
   "metadata": {},
   "outputs": [
    {
     "name": "stderr",
     "output_type": "stream",
     "text": [
      "W0913 00:24:42.350464 11812 deprecation.py:506] From C:\\Users\\peravit2\\Anaconda3\\lib\\site-packages\\keras\\backend\\tensorflow_backend.py:3733: calling dropout (from tensorflow.python.ops.nn_ops) with keep_prob is deprecated and will be removed in a future version.\n",
      "Instructions for updating:\n",
      "Please use `rate` instead of `keep_prob`. Rate should be set to `rate = 1 - keep_prob`.\n"
     ]
    }
   ],
   "source": [
    "classifier = Sequential()\n",
    "classifier.add(Dense(units = 80 , kernel_initializer = 'uniform', activation = 'relu', input_dim = 58))\n",
    "classifier.add(Dense(units = 60, activation = 'relu'))\n",
    "classifier.add(layers.Dropout(0.2))\n",
    "classifier.add(Dense(units = 50, activation = 'relu'))\n",
    "classifier.add(Dense(units = 40, activation = 'relu'))\n",
    "classifier.add(Dense(units = 2, activation = 'linear' ))"
   ]
  },
  {
   "cell_type": "code",
   "execution_count": 42,
   "metadata": {},
   "outputs": [],
   "source": [
    "classifier.compile(optimizer = 'adam', loss = 'mean_squared_error', metrics = ['mse'])"
   ]
  },
  {
   "cell_type": "code",
   "execution_count": 43,
   "metadata": {},
   "outputs": [
    {
     "data": {
      "text/plain": [
       "(17379, 58)"
      ]
     },
     "execution_count": 43,
     "metadata": {},
     "output_type": "execute_result"
    }
   ],
   "source": [
    "x.shape"
   ]
  },
  {
   "cell_type": "code",
   "execution_count": 45,
   "metadata": {},
   "outputs": [
    {
     "name": "stdout",
     "output_type": "stream",
     "text": [
      "Epoch 1/100\n",
      "13903/13903 [==============================] - 1s 84us/step - loss: 852.7680 - mean_squared_error: 852.7680\n",
      "Epoch 2/100\n",
      "13903/13903 [==============================] - 1s 100us/step - loss: 854.7717 - mean_squared_error: 854.7717\n",
      "Epoch 3/100\n",
      "13903/13903 [==============================] - 1s 98us/step - loss: 810.9947 - mean_squared_error: 810.9947\n",
      "Epoch 4/100\n",
      "13903/13903 [==============================] - 1s 106us/step - loss: 786.6412 - mean_squared_error: 786.6412\n",
      "Epoch 5/100\n",
      "13903/13903 [==============================] - 1s 104us/step - loss: 791.0548 - mean_squared_error: 791.0548\n",
      "Epoch 6/100\n",
      "13903/13903 [==============================] - 2s 115us/step - loss: 768.9949 - mean_squared_error: 768.9949\n",
      "Epoch 7/100\n",
      "13903/13903 [==============================] - 2s 110us/step - loss: 749.9471 - mean_squared_error: 749.9471\n",
      "Epoch 8/100\n",
      "13903/13903 [==============================] - 1s 86us/step - loss: 741.9153 - mean_squared_error: 741.9153\n",
      "Epoch 9/100\n",
      "13903/13903 [==============================] - 2s 108us/step - loss: 705.7930 - mean_squared_error: 705.7930\n",
      "Epoch 10/100\n",
      "13903/13903 [==============================] - 1s 89us/step - loss: 707.8298 - mean_squared_error: 707.8298\n",
      "Epoch 11/100\n",
      "13903/13903 [==============================] - 1s 83us/step - loss: 723.1054 - mean_squared_error: 723.1054\n",
      "Epoch 12/100\n",
      "13903/13903 [==============================] - 1s 89us/step - loss: 690.1139 - mean_squared_error: 690.1139\n",
      "Epoch 13/100\n",
      "13903/13903 [==============================] - 1s 83us/step - loss: 691.0747 - mean_squared_error: 691.0747\n",
      "Epoch 14/100\n",
      "13903/13903 [==============================] - 1s 84us/step - loss: 648.8169 - mean_squared_error: 648.8169\n",
      "Epoch 15/100\n",
      "13903/13903 [==============================] - 1s 85us/step - loss: 643.5821 - mean_squared_error: 643.5821\n",
      "Epoch 16/100\n",
      "13903/13903 [==============================] - 1s 83us/step - loss: 635.6806 - mean_squared_error: 635.6806\n",
      "Epoch 17/100\n",
      "13903/13903 [==============================] - 1s 93us/step - loss: 638.0946 - mean_squared_error: 638.0946\n",
      "Epoch 18/100\n",
      "13903/13903 [==============================] - 1s 99us/step - loss: 626.1028 - mean_squared_error: 626.1028\n",
      "Epoch 19/100\n",
      "13903/13903 [==============================] - 1s 79us/step - loss: 609.5718 - mean_squared_error: 609.5718\n",
      "Epoch 20/100\n",
      "13903/13903 [==============================] - 1s 91us/step - loss: 595.7899 - mean_squared_error: 595.7899\n",
      "Epoch 21/100\n",
      "13903/13903 [==============================] - 1s 100us/step - loss: 604.9406 - mean_squared_error: 604.9406\n",
      "Epoch 22/100\n",
      "13903/13903 [==============================] - 2s 118us/step - loss: 580.7193 - mean_squared_error: 580.7193\n",
      "Epoch 23/100\n",
      "13903/13903 [==============================] - 1s 83us/step - loss: 578.5193 - mean_squared_error: 578.5193\n",
      "Epoch 24/100\n",
      "13903/13903 [==============================] - 1s 84us/step - loss: 571.3984 - mean_squared_error: 571.3984\n",
      "Epoch 25/100\n",
      "13903/13903 [==============================] - 1s 84us/step - loss: 578.2513 - mean_squared_error: 578.2513\n",
      "Epoch 26/100\n",
      "13903/13903 [==============================] - 1s 89us/step - loss: 555.6652 - mean_squared_error: 555.6652\n",
      "Epoch 27/100\n",
      "13903/13903 [==============================] - 1s 88us/step - loss: 556.8440 - mean_squared_error: 556.8440\n",
      "Epoch 28/100\n",
      "13903/13903 [==============================] - 1s 82us/step - loss: 555.0107 - mean_squared_error: 555.0107\n",
      "Epoch 29/100\n",
      "13903/13903 [==============================] - 1s 83us/step - loss: 539.6409 - mean_squared_error: 539.6409\n",
      "Epoch 30/100\n",
      "13903/13903 [==============================] - 1s 86us/step - loss: 533.2313 - mean_squared_error: 533.2313\n",
      "Epoch 31/100\n",
      "13903/13903 [==============================] - 1s 83us/step - loss: 531.3473 - mean_squared_error: 531.3473\n",
      "Epoch 32/100\n",
      "13903/13903 [==============================] - 1s 87us/step - loss: 524.3757 - mean_squared_error: 524.3757\n",
      "Epoch 33/100\n",
      "13903/13903 [==============================] - 1s 88us/step - loss: 520.3839 - mean_squared_error: 520.3839\n",
      "Epoch 34/100\n",
      "13903/13903 [==============================] - 1s 85us/step - loss: 510.4498 - mean_squared_error: 510.4498\n",
      "Epoch 35/100\n",
      "13903/13903 [==============================] - 1s 86us/step - loss: 517.8049 - mean_squared_error: 517.8049\n",
      "Epoch 36/100\n",
      "13903/13903 [==============================] - 1s 83us/step - loss: 508.9484 - mean_squared_error: 508.9484\n",
      "Epoch 37/100\n",
      "13903/13903 [==============================] - 1s 86us/step - loss: 497.8364 - mean_squared_error: 497.8364\n",
      "Epoch 38/100\n",
      "13903/13903 [==============================] - 1s 83us/step - loss: 493.0620 - mean_squared_error: 493.0620\n",
      "Epoch 39/100\n",
      "13903/13903 [==============================] - 1s 84us/step - loss: 493.1589 - mean_squared_error: 493.1589\n",
      "Epoch 40/100\n",
      "13903/13903 [==============================] - 1s 86us/step - loss: 489.8345 - mean_squared_error: 489.8345\n",
      "Epoch 41/100\n",
      "13903/13903 [==============================] - 2s 112us/step - loss: 506.7972 - mean_squared_error: 506.7972\n",
      "Epoch 42/100\n",
      "13903/13903 [==============================] - 1s 85us/step - loss: 482.3288 - mean_squared_error: 482.3288\n",
      "Epoch 43/100\n",
      "13903/13903 [==============================] - 1s 85us/step - loss: 472.4732 - mean_squared_error: 472.4732\n",
      "Epoch 44/100\n",
      "13903/13903 [==============================] - 1s 91us/step - loss: 477.3580 - mean_squared_error: 477.3580\n",
      "Epoch 45/100\n",
      "13903/13903 [==============================] - 1s 84us/step - loss: 470.3025 - mean_squared_error: 470.3025\n",
      "Epoch 46/100\n",
      "13903/13903 [==============================] - 1s 84us/step - loss: 469.3257 - mean_squared_error: 469.3257\n",
      "Epoch 47/100\n",
      "13903/13903 [==============================] - 1s 83us/step - loss: 469.7715 - mean_squared_error: 469.7715\n",
      "Epoch 48/100\n",
      "13903/13903 [==============================] - 1s 89us/step - loss: 464.7587 - mean_squared_error: 464.7587\n",
      "Epoch 49/100\n",
      "13903/13903 [==============================] - 1s 90us/step - loss: 456.9556 - mean_squared_error: 456.9556\n",
      "Epoch 50/100\n",
      "13903/13903 [==============================] - 1s 86us/step - loss: 465.8278 - mean_squared_error: 465.8278\n",
      "Epoch 51/100\n",
      "13903/13903 [==============================] - 1s 89us/step - loss: 457.2618 - mean_squared_error: 457.2618\n",
      "Epoch 52/100\n",
      "13903/13903 [==============================] - 1s 84us/step - loss: 458.3972 - mean_squared_error: 458.3972\n",
      "Epoch 53/100\n",
      "13903/13903 [==============================] - 1s 90us/step - loss: 449.4615 - mean_squared_error: 449.4615\n",
      "Epoch 54/100\n",
      "13903/13903 [==============================] - 1s 86us/step - loss: 445.9979 - mean_squared_error: 445.9979\n",
      "Epoch 55/100\n",
      "13903/13903 [==============================] - 1s 84us/step - loss: 443.4411 - mean_squared_error: 443.4411\n",
      "Epoch 56/100\n",
      "13903/13903 [==============================] - 1s 85us/step - loss: 444.4174 - mean_squared_error: 444.4174\n",
      "Epoch 57/100\n",
      "13903/13903 [==============================] - 1s 83us/step - loss: 431.3546 - mean_squared_error: 431.3546\n",
      "Epoch 58/100\n",
      "13903/13903 [==============================] - 1s 83us/step - loss: 431.6113 - mean_squared_error: 431.6113\n",
      "Epoch 59/100\n",
      "13903/13903 [==============================] - 1s 85us/step - loss: 439.1894 - mean_squared_error: 439.1894\n",
      "Epoch 60/100\n",
      "13903/13903 [==============================] - 1s 85us/step - loss: 443.7937 - mean_squared_error: 443.7937\n",
      "Epoch 61/100\n",
      "13903/13903 [==============================] - 1s 90us/step - loss: 431.6430 - mean_squared_error: 431.6430\n",
      "Epoch 62/100\n",
      "13903/13903 [==============================] - 1s 85us/step - loss: 428.9075 - mean_squared_error: 428.9075\n",
      "Epoch 63/100\n",
      "13903/13903 [==============================] - 1s 83us/step - loss: 427.0876 - mean_squared_error: 427.0876\n",
      "Epoch 64/100\n",
      "13903/13903 [==============================] - 2s 114us/step - loss: 425.2285 - mean_squared_error: 425.2285\n",
      "Epoch 65/100\n",
      "13903/13903 [==============================] - 2s 113us/step - loss: 420.3162 - mean_squared_error: 420.3162\n",
      "Epoch 66/100\n",
      "13903/13903 [==============================] - 1s 100us/step - loss: 416.5124 - mean_squared_error: 416.5124\n",
      "Epoch 67/100\n",
      "13903/13903 [==============================] - 1s 97us/step - loss: 423.4259 - mean_squared_error: 423.4259\n",
      "Epoch 68/100\n",
      "13903/13903 [==============================] - 1s 97us/step - loss: 418.3104 - mean_squared_error: 418.3104\n",
      "Epoch 69/100\n",
      "13903/13903 [==============================] - 2s 112us/step - loss: 408.1826 - mean_squared_error: 408.1826\n",
      "Epoch 70/100\n",
      "13903/13903 [==============================] - 1s 82us/step - loss: 413.5168 - mean_squared_error: 413.5168\n",
      "Epoch 71/100\n",
      "13903/13903 [==============================] - 1s 83us/step - loss: 410.5206 - mean_squared_error: 410.5206\n",
      "Epoch 72/100\n",
      "13903/13903 [==============================] - 1s 83us/step - loss: 409.4347 - mean_squared_error: 409.4347\n",
      "Epoch 73/100\n",
      "13903/13903 [==============================] - 1s 84us/step - loss: 410.8794 - mean_squared_error: 410.8794\n",
      "Epoch 74/100\n",
      "13903/13903 [==============================] - 1s 96us/step - loss: 407.3460 - mean_squared_error: 407.3460 0s - los\n",
      "Epoch 75/100\n",
      "13903/13903 [==============================] - 1s 86us/step - loss: 405.2420 - mean_squared_error: 405.2420\n",
      "Epoch 76/100\n",
      "13903/13903 [==============================] - 1s 83us/step - loss: 407.9157 - mean_squared_error: 407.9157\n",
      "Epoch 77/100\n",
      "13903/13903 [==============================] - 1s 87us/step - loss: 401.4471 - mean_squared_error: 401.4471\n",
      "Epoch 78/100\n",
      "13903/13903 [==============================] - 2s 119us/step - loss: 400.5849 - mean_squared_error: 400.5849\n",
      "Epoch 79/100\n",
      "13903/13903 [==============================] - 1s 92us/step - loss: 401.1911 - mean_squared_error: 401.1911\n",
      "Epoch 80/100\n",
      "13903/13903 [==============================] - 1s 84us/step - loss: 396.8165 - mean_squared_error: 396.8165\n",
      "Epoch 81/100\n",
      "13903/13903 [==============================] - 1s 84us/step - loss: 396.4001 - mean_squared_error: 396.4001\n",
      "Epoch 82/100\n",
      "13903/13903 [==============================] - 1s 84us/step - loss: 388.2197 - mean_squared_error: 388.2197\n",
      "Epoch 83/100\n",
      "13903/13903 [==============================] - 1s 85us/step - loss: 386.1298 - mean_squared_error: 386.1298\n",
      "Epoch 84/100\n",
      "13903/13903 [==============================] - 1s 84us/step - loss: 388.9947 - mean_squared_error: 388.9947\n",
      "Epoch 85/100\n",
      "13903/13903 [==============================] - 1s 86us/step - loss: 384.7898 - mean_squared_error: 384.7898\n",
      "Epoch 86/100\n",
      "13903/13903 [==============================] - 1s 85us/step - loss: 383.9886 - mean_squared_error: 383.9886\n",
      "Epoch 87/100\n",
      "13903/13903 [==============================] - 1s 84us/step - loss: 389.8971 - mean_squared_error: 389.8971\n",
      "Epoch 88/100\n",
      "13903/13903 [==============================] - 1s 84us/step - loss: 383.1385 - mean_squared_error: 383.1385\n",
      "Epoch 89/100\n",
      "13903/13903 [==============================] - 1s 84us/step - loss: 374.9022 - mean_squared_error: 374.9022\n",
      "Epoch 90/100\n",
      "13903/13903 [==============================] - 1s 89us/step - loss: 375.4493 - mean_squared_error: 375.4493\n",
      "Epoch 91/100\n",
      "13903/13903 [==============================] - 1s 85us/step - loss: 383.2533 - mean_squared_error: 383.2533\n",
      "Epoch 92/100\n",
      "13903/13903 [==============================] - 1s 84us/step - loss: 376.0406 - mean_squared_error: 376.0406\n",
      "Epoch 93/100\n",
      "13903/13903 [==============================] - 1s 85us/step - loss: 370.1631 - mean_squared_error: 370.1631\n",
      "Epoch 94/100\n",
      "13903/13903 [==============================] - 1s 85us/step - loss: 376.4915 - mean_squared_error: 376.4915\n",
      "Epoch 95/100\n",
      "13903/13903 [==============================] - 1s 84us/step - loss: 373.1594 - mean_squared_error: 373.1594\n",
      "Epoch 96/100\n",
      "13903/13903 [==============================] - 1s 86us/step - loss: 371.6538 - mean_squared_error: 371.6538\n",
      "Epoch 97/100\n",
      "13903/13903 [==============================] - 1s 87us/step - loss: 370.5743 - mean_squared_error: 370.5743 0s - loss: 356.3274 \n",
      "Epoch 98/100\n",
      "13903/13903 [==============================] - 1s 85us/step - loss: 370.7675 - mean_squared_error: 370.7675\n",
      "Epoch 99/100\n",
      "13903/13903 [==============================] - 1s 86us/step - loss: 370.8969 - mean_squared_error: 370.8969\n",
      "Epoch 100/100\n",
      "13903/13903 [==============================] - 1s 86us/step - loss: 370.4453 - mean_squared_error: 370.4453\n"
     ]
    },
    {
     "data": {
      "text/plain": [
       "<keras.callbacks.History at 0x1dfbf09aa20>"
      ]
     },
     "execution_count": 45,
     "metadata": {},
     "output_type": "execute_result"
    }
   ],
   "source": [
    "classifier.fit(x_train, y_train, batch_size = 10, epochs = 100)"
   ]
  },
  {
   "cell_type": "code",
   "execution_count": 46,
   "metadata": {},
   "outputs": [],
   "source": [
    "y_pred = classifier.predict(x_test)"
   ]
  },
  {
   "cell_type": "code",
   "execution_count": 47,
   "metadata": {},
   "outputs": [
    {
     "data": {
      "text/plain": [
       "1384.887611622114"
      ]
     },
     "execution_count": 47,
     "metadata": {},
     "output_type": "execute_result"
    }
   ],
   "source": [
    "mean_squared_error(y_test, y_pred)"
   ]
  },
  {
   "cell_type": "code",
   "execution_count": null,
   "metadata": {},
   "outputs": [],
   "source": []
  }
 ],
 "metadata": {
  "kernelspec": {
   "display_name": "Python 3",
   "language": "python",
   "name": "python3"
  },
  "language_info": {
   "codemirror_mode": {
    "name": "ipython",
    "version": 3
   },
   "file_extension": ".py",
   "mimetype": "text/x-python",
   "name": "python",
   "nbconvert_exporter": "python",
   "pygments_lexer": "ipython3",
   "version": "3.7.6"
  }
 },
 "nbformat": 4,
 "nbformat_minor": 2
}
