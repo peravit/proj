{
 "cells": [
  {
   "cell_type": "code",
   "execution_count": 186,
   "metadata": {},
   "outputs": [],
   "source": [
    "import numpy as np\n",
    "\n",
    "def split_word(sentence):\n",
    "    word = sentence.split()\n",
    "    return word \n",
    "\n",
    "    \n",
    "def unigram(sentence):\n",
    "    \n",
    "    print('unigram')\n",
    "    \n",
    "    word = split_word(sentence)\n",
    "    \n",
    "    print('Number of words : ',len(word))\n",
    "    \n",
    "    unique_elements, counts_elements = np.unique(word, return_counts=True)\n",
    "    prob = []\n",
    "    \n",
    "    for i in counts_elements:\n",
    "        p = i/len(word)\n",
    "        prob.append(p)\n",
    "    \n",
    "    \n",
    "    for i in range(len(prob)):\n",
    "        print('P({}) = {}'.format(unique_elements[i],prob[i]))\n",
    "    \n",
    "\n",
    "def bigram(sentence):\n",
    "    \n",
    "    print('bigram')\n",
    "    \n",
    "    word = split_word(sentence)\n",
    "    \n",
    "    print('Number of words : ',len(word))\n",
    "    \n",
    "    unique_elements, counts_elements = np.unique(word, return_counts=True)\n",
    "    \n",
    "    word_bi = []\n",
    "    for i in range(len(word)):\n",
    "\n",
    "        if i != len(word)-1:\n",
    "            w = word[i] + ',' + word[i+1]\n",
    "            word_bi.append(w)\n",
    "        \n",
    "    bi_unique_elements, bi_counts_elements = np.unique(word_bi, return_counts=True)\n",
    "    \n",
    "    prob = []\n",
    "    for i in range(len(bi_counts_elements)):\n",
    "        w = bi_unique_elements[i].split(',')\n",
    "        n = np.where(unique_elements == w[0])\n",
    "        p = bi_counts_elements[i]/counts_elements[n[0]]\n",
    "        prob.append(p)\n",
    "    \n",
    "    for i in range(len(bi_unique_elements)):\n",
    "        w = bi_unique_elements[i].split(',')\n",
    "        print('P({}|{}) = {}'.format(w[1],w[0],prob[i][0]))\n",
    "\n"
   ]
  },
  {
   "cell_type": "code",
   "execution_count": 194,
   "metadata": {},
   "outputs": [
    {
     "name": "stdout",
     "output_type": "stream",
     "text": [
      "unigram\n",
      "Number of words :  17\n",
      "P(I) = 0.23529411764705882\n",
      "P(Sam) = 0.23529411764705882\n",
      "P(am) = 0.17647058823529413\n",
      "P(and) = 0.058823529411764705\n",
      "P(do) = 0.058823529411764705\n",
      "P(eggs) = 0.058823529411764705\n",
      "P(green) = 0.058823529411764705\n",
      "P(like) = 0.058823529411764705\n",
      "P(not) = 0.058823529411764705\n",
      "--------------------------------------------------\n",
      "bigram\n",
      "Number of words :  17\n",
      "P(am|I) = 0.75\n",
      "P(do|I) = 0.25\n",
      "P(I|Sam) = 0.5\n",
      "P(Sam|Sam) = 0.25\n",
      "P(I|am) = 0.3333333333333333\n",
      "P(Sam|am) = 0.6666666666666666\n",
      "P(Sam|and) = 1.0\n",
      "P(not|do) = 1.0\n",
      "P(and|eggs) = 1.0\n",
      "P(eggs|green) = 1.0\n",
      "P(green|like) = 1.0\n",
      "P(like|not) = 1.0\n"
     ]
    }
   ],
   "source": [
    "#only one string input sentence\n",
    "#split by space\n",
    "\n",
    "s = 'I am Sam Sam I am I am Sam I do not like green eggs and Sam'\n",
    "\n",
    "unigram(s)\n",
    "print('-'*50)\n",
    "bigram(s)"
   ]
  },
  {
   "cell_type": "code",
   "execution_count": null,
   "metadata": {},
   "outputs": [],
   "source": []
  }
 ],
 "metadata": {
  "kernelspec": {
   "display_name": "Python 3",
   "language": "python",
   "name": "python3"
  },
  "language_info": {
   "codemirror_mode": {
    "name": "ipython",
    "version": 3
   },
   "file_extension": ".py",
   "mimetype": "text/x-python",
   "name": "python",
   "nbconvert_exporter": "python",
   "pygments_lexer": "ipython3",
   "version": "3.7.3"
  }
 },
 "nbformat": 4,
 "nbformat_minor": 2
}
