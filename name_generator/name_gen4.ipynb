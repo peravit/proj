{
 "cells": [
  {
   "cell_type": "code",
   "execution_count": 27,
   "metadata": {},
   "outputs": [],
   "source": [
    "import pandas as pd\n",
    "import numpy as np\n",
    "import keras\n",
    "import time\n",
    "from keras.models import Sequential\n",
    "from keras.layers import Dense ,Dropout\n",
    "from keras.layers import LSTM\n",
    "from keras.optimizers import RMSprop\n",
    "from keras.layers.normalization import BatchNormalization\n",
    "import numpy as np\n",
    "import random\n",
    "import os"
   ]
  },
  {
   "cell_type": "code",
   "execution_count": 2,
   "metadata": {},
   "outputs": [],
   "source": [
    "#https://github.com/simon-larsson/pokemon-name-generator/blob/master/name_generator.ipynb"
   ]
  },
  {
   "cell_type": "code",
   "execution_count": 44,
   "metadata": {},
   "outputs": [],
   "source": [
    "step_length = 1    \n",
    "epochs = 50      \n",
    "batch_size = 32    \n",
    "dropout_rate = 0.2 \n",
    "model_path = os.path.realpath('./name_gen_model.h5') \n",
    "load_model = False \n",
    "store_model = True \n",
    "verbosity = 1     \n",
    "gen_amount = 10    "
   ]
  },
  {
   "cell_type": "code",
   "execution_count": 6,
   "metadata": {},
   "outputs": [
    {
     "name": "stdout",
     "output_type": "stream",
     "text": [
      "KAMONNUCH\n",
      "KAMOLLAK\n",
      "GASARAPORN\n",
      "JARUWAN\n",
      "CHIRAPORN\n",
      "JUTARAT\n",
      "CHONTHICHA\n",
      "NARUEMON\n",
      "WIMONSIRI\n",
      "SASITHON\n",
      "...\n"
     ]
    }
   ],
   "source": [
    "input_names = []\n",
    "with open('ThaiNameInEnglish.txt', encoding = 'utf8')as f:\n",
    "    for name in f:\n",
    "        name = name.rstrip()\n",
    "        if len(input_names) < 10:\n",
    "            print(name)\n",
    "        input_names.append(name)\n",
    "    print('...')"
   ]
  },
  {
   "cell_type": "code",
   "execution_count": 7,
   "metadata": {},
   "outputs": [],
   "source": [
    "file = open('ThaiNameInEnglish.txt', encoding = 'utf8')\n",
    "processed_inputs = file.read()    \n",
    "processed_inputs = processed_inputs.lower()"
   ]
  },
  {
   "cell_type": "code",
   "execution_count": 8,
   "metadata": {},
   "outputs": [
    {
     "name": "stdout",
     "output_type": "stream",
     "text": [
      "['\\n', '-', 'a', 'b', 'c', 'd', 'e', 'f', 'g', 'h', 'i', 'j', 'k', 'l', 'm', 'n', 'o', 'p', 'q', 'r', 's', 't', 'u', 'v', 'w', 'y', 'z', '\\u200b']\n",
      "['\\n', 'a', 'b', 'c', 'd', 'e', 'f', 'g', 'h', 'i', 'j', 'k', 'l', 'm', 'n', 'o', 'p', 'q', 'r', 's', 't', 'u', 'v', 'w', 'y', 'z']\n"
     ]
    }
   ],
   "source": [
    "chars = sorted(list(set(processed_inputs)))\n",
    "print(chars)\n",
    "\n",
    "bad_chars = ['-', '\\u200b']\n",
    "for i in range(len(bad_chars)):\n",
    "    processed_inputs = processed_inputs.replace(bad_chars[i],\"\")\n",
    "max_sequence_length = max([len(name) for name in input_names]) \n",
    "chars = sorted(list(set(processed_inputs)))\n",
    "print(chars)"
   ]
  },
  {
   "cell_type": "code",
   "execution_count": 10,
   "metadata": {},
   "outputs": [
    {
     "name": "stdout",
     "output_type": "stream",
     "text": [
      "Total number of characters: 22042\n",
      "Total vocab: 26\n",
      "Number of names:  2399\n",
      "Longest name:  21\n"
     ]
    }
   ],
   "source": [
    "concat_names = processed_inputs\n",
    "input_len = len(concat_names )\n",
    "num_chars = len(chars)\n",
    "max_sequence_length = max([len(name) for name in input_names]) \n",
    "print (\"Total number of characters:\", input_len)\n",
    "print (\"Total vocab:\", num_chars)\n",
    "print('Number of names: ', len(input_names))\n",
    "print('Longest name: ', max_sequence_length)"
   ]
  },
  {
   "cell_type": "code",
   "execution_count": 11,
   "metadata": {},
   "outputs": [],
   "source": [
    "char2idx = dict((c, i) for i, c in enumerate(chars))\n",
    "idx2char = dict((i, c) for i, c in enumerate(chars))"
   ]
  },
  {
   "cell_type": "code",
   "execution_count": 45,
   "metadata": {},
   "outputs": [
    {
     "name": "stdout",
     "output_type": "stream",
     "text": [
      "Number of sequences: 22021\n",
      "First 10 sequences and next chars:\n",
      "X=[kamonnuch kamollak ga]   y=[s]\n",
      "X=[amonnuch kamollak gas]   y=[a]\n",
      "X=[monnuch kamollak gasa]   y=[r]\n",
      "X=[onnuch kamollak gasar]   y=[a]\n",
      "X=[nnuch kamollak gasara]   y=[p]\n",
      "X=[nuch kamollak gasarap]   y=[o]\n",
      "X=[uch kamollak gasarapo]   y=[r]\n",
      "X=[ch kamollak gasarapor]   y=[n]\n",
      "X=[h kamollak gasaraporn]   y=[ ]\n",
      "X=[ kamollak gasaraporn ]   y=[j]\n"
     ]
    }
   ],
   "source": [
    "sequences = []\n",
    "next_chars = []\n",
    "for i in range(0, len(concat_names) - max_sequence_length, step_length):\n",
    "    sequences.append(concat_names[i: i + max_sequence_length])\n",
    "    next_chars.append(concat_names[i + max_sequence_length])\n",
    "\n",
    "num_sequences = len(sequences)\n",
    "\n",
    "print('Number of sequences:', num_sequences)\n",
    "print('First 10 sequences and next chars:')\n",
    "for i in range(10):\n",
    "    print('X=[{}]   y=[{}]'.replace('\\n', ' ').format(sequences[i], next_chars[i]).replace('\\n', ' '))"
   ]
  },
  {
   "cell_type": "code",
   "execution_count": 46,
   "metadata": {},
   "outputs": [
    {
     "name": "stdout",
     "output_type": "stream",
     "text": [
      "X shape: (22021, 21, 26)\n",
      "Y shape: (22021, 26)\n"
     ]
    }
   ],
   "source": [
    "X = np.zeros((num_sequences, max_sequence_length, num_chars), dtype=np.bool)\n",
    "Y = np.zeros((num_sequences, num_chars), dtype=np.bool)\n",
    "\n",
    "for i, sequence in enumerate(sequences):\n",
    "    for j, char in enumerate(sequence):\n",
    "        X[i, j, char2idx[char]] = 1\n",
    "    Y[i, char2idx[next_chars[i]]] = 1\n",
    "    \n",
    "print('X shape: {}'.format(X.shape))\n",
    "print('Y shape: {}'.format(Y.shape))"
   ]
  },
  {
   "cell_type": "code",
   "execution_count": 47,
   "metadata": {},
   "outputs": [
    {
     "name": "stdout",
     "output_type": "stream",
     "text": [
      "_________________________________________________________________\n",
      "Layer (type)                 Output Shape              Param #   \n",
      "=================================================================\n",
      "lstm_32 (LSTM)               (None, 64)                23296     \n",
      "_________________________________________________________________\n",
      "dense_10 (Dense)             (None, 26)                1690      \n",
      "=================================================================\n",
      "Total params: 24,986\n",
      "Trainable params: 24,986\n",
      "Non-trainable params: 0\n",
      "_________________________________________________________________\n"
     ]
    }
   ],
   "source": [
    "model = Sequential()\n",
    "model.add(LSTM(64, input_shape=(max_sequence_length, num_chars),   recurrent_dropout=dropout_rate))\n",
    "model.add(Dense(units=num_chars, activation='softmax'))\n",
    "model.compile(loss='categorical_crossentropy',optimizer='adam')\n",
    "\n",
    "model.summary()"
   ]
  },
  {
   "cell_type": "code",
   "execution_count": 48,
   "metadata": {},
   "outputs": [
    {
     "name": "stdout",
     "output_type": "stream",
     "text": [
      "Start training for 50 epochs\n",
      "WARNING:tensorflow:From C:\\Users\\peravit2\\Anaconda3\\lib\\site-packages\\tensorflow\\python\\ops\\math_grad.py:1250: add_dispatch_support.<locals>.wrapper (from tensorflow.python.ops.array_ops) is deprecated and will be removed in a future version.\n",
      "Instructions for updating:\n",
      "Use tf.where in 2.0, which has the same broadcast rule as np.where\n",
      "Epoch 1/50\n",
      "22021/22021 [==============================] - 30s 1ms/step - loss: 2.5039: 0s - loss:\n",
      "Epoch 2/50\n",
      "22021/22021 [==============================] - 24s 1ms/step - loss: 2.0122\n",
      "Epoch 3/50\n",
      "22021/22021 [==============================] - 23s 1ms/step - loss: 1.8695: 0s - lo\n",
      "Epoch 4/50\n",
      "22021/22021 [==============================] - 24s 1ms/step - loss: 1.8092\n",
      "Epoch 5/50\n",
      "22021/22021 [==============================] - 23s 1ms/step - loss: 1.7712\n",
      "Epoch 6/50\n",
      "22021/22021 [==============================] - 23s 1ms/step - loss: 1.7467\n",
      "Epoch 7/50\n",
      "22021/22021 [==============================] - 23s 1ms/step - loss: 1.7231\n",
      "Epoch 8/50\n",
      "22021/22021 [==============================] - 24s 1ms/step - loss: 1.7043\n",
      "Epoch 9/50\n",
      "22021/22021 [==============================] - 23s 1ms/step - loss: 1.6883\n",
      "Epoch 10/50\n",
      "22021/22021 [==============================] - 23s 1ms/step - loss: 1.6705\n",
      "Epoch 11/50\n",
      "22021/22021 [==============================] - 23s 1ms/step - loss: 1.6556\n",
      "Epoch 12/50\n",
      "22021/22021 [==============================] - 23s 1ms/step - loss: 1.6402\n",
      "Epoch 13/50\n",
      "22021/22021 [==============================] - 23s 1ms/step - loss: 1.6232\n",
      "Epoch 14/50\n",
      "22021/22021 [==============================] - 23s 1ms/step - loss: 1.6096: 0s - l\n",
      "Epoch 15/50\n",
      "22021/22021 [==============================] - 23s 1ms/step - loss: 1.5954\n",
      "Epoch 16/50\n",
      "22021/22021 [==============================] - 23s 1ms/step - loss: 1.5785\n",
      "Epoch 17/50\n",
      "22021/22021 [==============================] - 24s 1ms/step - loss: 1.5663\n",
      "Epoch 18/50\n",
      "22021/22021 [==============================] - 21s 975us/step - loss: 1.5537\n",
      "Epoch 19/50\n",
      "22021/22021 [==============================] - 22s 977us/step - loss: 1.5390\n",
      "Epoch 20/50\n",
      "22021/22021 [==============================] - 22s 1ms/step - loss: 1.5352\n",
      "Epoch 21/50\n",
      "22021/22021 [==============================] - 22s 1ms/step - loss: 1.5210: 0s - lo\n",
      "Epoch 22/50\n",
      "22021/22021 [==============================] - 22s 977us/step - loss: 1.51550\n",
      "Epoch 23/50\n",
      "22021/22021 [==============================] - 21s 975us/step - loss: 1.5030\n",
      "Epoch 24/50\n",
      "22021/22021 [==============================] - 23s 1ms/step - loss: 1.4945\n",
      "Epoch 25/50\n",
      "22021/22021 [==============================] - 23s 1ms/step - loss: 1.4873 ETA: 0s - lo\n",
      "Epoch 26/50\n",
      "22021/22021 [==============================] - 23s 1ms/step - loss: 1.4778\n",
      "Epoch 27/50\n",
      "22021/22021 [==============================] - 21s 975us/step - loss: 1.4729\n",
      "Epoch 28/50\n",
      "22021/22021 [==============================] - 23s 1ms/step - loss: 1.4674\n",
      "Epoch 29/50\n",
      "22021/22021 [==============================] - 22s 985us/step - loss: 1.4596\n",
      "Epoch 30/50\n",
      "22021/22021 [==============================] - 21s 972us/step - loss: 1.4509\n",
      "Epoch 31/50\n",
      "22021/22021 [==============================] - 22s 980us/step - loss: 1.4446\n",
      "Epoch 32/50\n",
      "22021/22021 [==============================] - 21s 973us/step - loss: 1.4393\n",
      "Epoch 33/50\n",
      "22021/22021 [==============================] - 22s 982us/step - loss: 1.43110s - los\n",
      "Epoch 34/50\n",
      "22021/22021 [==============================] - 23s 1ms/step - loss: 1.4252\n",
      "Epoch 35/50\n",
      "22021/22021 [==============================] - 22s 977us/step - loss: 1.4208\n",
      "Epoch 36/50\n",
      "22021/22021 [==============================] - 22s 981us/step - loss: 1.4139\n",
      "Epoch 37/50\n",
      "22021/22021 [==============================] - 21s 974us/step - loss: 1.4105\n",
      "Epoch 38/50\n",
      "22021/22021 [==============================] - 21s 975us/step - loss: 1.4066 ETA: 3s - lo\n",
      "Epoch 39/50\n",
      "22021/22021 [==============================] - 21s 975us/step - loss: 1.4006\n",
      "Epoch 40/50\n",
      "22021/22021 [==============================] - 21s 972us/step - loss: 1.3946\n",
      "Epoch 41/50\n",
      "22021/22021 [==============================] - 23s 1ms/step - loss: 1.3873\n",
      "Epoch 42/50\n",
      "22021/22021 [==============================] - 24s 1ms/step - loss: 1.3858\n",
      "Epoch 43/50\n",
      "22021/22021 [==============================] - 22s 1ms/step - loss: 1.3820\n",
      "Epoch 44/50\n",
      "22021/22021 [==============================] - 22s 1ms/step - loss: 1.3804\n",
      "Epoch 45/50\n",
      "22021/22021 [==============================] - 22s 1ms/step - loss: 1.3723\n",
      "Epoch 46/50\n",
      "22021/22021 [==============================] - 22s 987us/step - loss: 1.3675 \n",
      "Epoch 47/50\n",
      "22021/22021 [==============================] - 22s 978us/step - loss: 1.3644\n",
      "Epoch 48/50\n",
      "22021/22021 [==============================] - 22s 991us/step - loss: 1.3615\n",
      "Epoch 49/50\n",
      "22021/22021 [==============================] - 22s 1ms/step - loss: 1.3554:\n",
      "Epoch 50/50\n",
      "22021/22021 [==============================] - 22s 990us/step - loss: 1.34732s - loss: 1.34 - ETA: 1s - loss: 1.3\n",
      "Finished training - time elapsed: 18.752102224032082 min\n",
      "Storing model at: C:\\Users\\peravit2\\Desktop\\BADS7604 DL\\Aj.thitirat\\name_gen_model.h5\n"
     ]
    }
   ],
   "source": [
    "if load_model:\n",
    "    model.load(model_path)\n",
    "else:\n",
    "    start = time.time()\n",
    "    print('Start training for {} epochs'.format(epochs))\n",
    "    history = model.fit(X, Y, epochs=epochs, batch_size=batch_size, verbose=verbosity)\n",
    "    end = time.time()\n",
    "    print('Finished training - time elapsed:', (end - start)/60, 'min')\n",
    "if store_model:\n",
    "    print('Storing model at:', model_path)\n",
    "    model.save(model_path)"
   ]
  },
  {
   "cell_type": "code",
   "execution_count": 51,
   "metadata": {},
   "outputs": [],
   "source": [
    "filename = \"name_gen_model.h5\"\n",
    "model.load_weights(filename)\n",
    "model.compile(loss='categorical_crossentropy', optimizer='adam')"
   ]
  },
  {
   "cell_type": "code",
   "execution_count": 57,
   "metadata": {},
   "outputs": [
    {
     "name": "stdout",
     "output_type": "stream",
     "text": [
      "10 new names are being generated\n",
      "Generated 1\n",
      "Generated 1\n",
      "Generated 2\n",
      "Generated 3\n",
      "Generated 4\n",
      "Generated 5\n",
      "Generated 6\n",
      "Generated 7\n",
      "Generated 8\n",
      "Generated 9\n",
      "Generated 10\n"
     ]
    }
   ],
   "source": [
    "sequence = concat_names[-(max_sequence_length - 1):] + '\\n'\n",
    "\n",
    "new_names = []\n",
    "\n",
    "print('{} new names are being generated'.format(gen_amount))\n",
    "\n",
    "while len(new_names) < gen_amount:\n",
    "    \n",
    "    x = np.zeros((1, max_sequence_length, num_chars))\n",
    "    for i, char in enumerate(sequence):\n",
    "        x[0, i, char2idx[char]] = 1\n",
    "\n",
    "    probs = model.predict(x, verbose=0)[0]\n",
    "    probs /= probs.sum()\n",
    "    next_idx = np.random.choice(len(probs), p=probs)   \n",
    "    next_char = idx2char[next_idx]   \n",
    "    sequence = sequence[1:] + next_char\n",
    "\n",
    "    if next_char == '\\n':\n",
    "\n",
    "        gen_name = [name for name in sequence.split('\\n')][1]\n",
    "\n",
    "        if len(gen_name) > 2 and gen_name[0] == gen_name[1]:\n",
    "            gen_name = gen_name[1:]\n",
    "\n",
    "        if len(gen_name) > 2:\n",
    "            \n",
    "            if gen_name not in input_names + new_names:\n",
    "                new_names.append(gen_name.capitalize())\n",
    "\n",
    "        if 0 == (len(new_names) % (gen_amount/ 10)):\n",
    "            print('Generated {}'.format(len(new_names)))"
   ]
  },
  {
   "cell_type": "code",
   "execution_count": 58,
   "metadata": {},
   "outputs": [
    {
     "name": "stdout",
     "output_type": "stream",
     "text": [
      "First 10 generated names:\n",
      "Tarathip\n",
      "Phongphet\n",
      "Pheerapat\n",
      "Piyakan\n",
      "Piyanut\n",
      "Preedapa\n",
      "Phanida\n",
      "Menthima\n",
      "Phimchai\n",
      "Monthit\n"
     ]
    }
   ],
   "source": [
    "print_first_n = min(10, gen_amount)\n",
    "\n",
    "print('First {} generated names:'.format(print_first_n))\n",
    "for name in new_names[:print_first_n]:\n",
    "    print(name)"
   ]
  }
 ],
 "metadata": {
  "kernelspec": {
   "display_name": "Python 3",
   "language": "python",
   "name": "python3"
  },
  "language_info": {
   "codemirror_mode": {
    "name": "ipython",
    "version": 3
   },
   "file_extension": ".py",
   "mimetype": "text/x-python",
   "name": "python",
   "nbconvert_exporter": "python",
   "pygments_lexer": "ipython3",
   "version": "3.7.6"
  }
 },
 "nbformat": 4,
 "nbformat_minor": 2
}
