{
 "cells": [
  {
   "cell_type": "code",
   "execution_count": 1,
   "metadata": {},
   "outputs": [
    {
     "name": "stderr",
     "output_type": "stream",
     "text": [
      "Using TensorFlow backend.\n",
      "C:\\Users\\peravit2\\Anaconda3\\lib\\site-packages\\tensorflow\\python\\framework\\dtypes.py:516: FutureWarning: Passing (type, 1) or '1type' as a synonym of type is deprecated; in a future version of numpy, it will be understood as (type, (1,)) / '(1,)type'.\n",
      "  _np_qint8 = np.dtype([(\"qint8\", np.int8, 1)])\n",
      "C:\\Users\\peravit2\\Anaconda3\\lib\\site-packages\\tensorflow\\python\\framework\\dtypes.py:517: FutureWarning: Passing (type, 1) or '1type' as a synonym of type is deprecated; in a future version of numpy, it will be understood as (type, (1,)) / '(1,)type'.\n",
      "  _np_quint8 = np.dtype([(\"quint8\", np.uint8, 1)])\n",
      "C:\\Users\\peravit2\\Anaconda3\\lib\\site-packages\\tensorflow\\python\\framework\\dtypes.py:518: FutureWarning: Passing (type, 1) or '1type' as a synonym of type is deprecated; in a future version of numpy, it will be understood as (type, (1,)) / '(1,)type'.\n",
      "  _np_qint16 = np.dtype([(\"qint16\", np.int16, 1)])\n",
      "C:\\Users\\peravit2\\Anaconda3\\lib\\site-packages\\tensorflow\\python\\framework\\dtypes.py:519: FutureWarning: Passing (type, 1) or '1type' as a synonym of type is deprecated; in a future version of numpy, it will be understood as (type, (1,)) / '(1,)type'.\n",
      "  _np_quint16 = np.dtype([(\"quint16\", np.uint16, 1)])\n",
      "C:\\Users\\peravit2\\Anaconda3\\lib\\site-packages\\tensorflow\\python\\framework\\dtypes.py:520: FutureWarning: Passing (type, 1) or '1type' as a synonym of type is deprecated; in a future version of numpy, it will be understood as (type, (1,)) / '(1,)type'.\n",
      "  _np_qint32 = np.dtype([(\"qint32\", np.int32, 1)])\n",
      "C:\\Users\\peravit2\\Anaconda3\\lib\\site-packages\\tensorflow\\python\\framework\\dtypes.py:525: FutureWarning: Passing (type, 1) or '1type' as a synonym of type is deprecated; in a future version of numpy, it will be understood as (type, (1,)) / '(1,)type'.\n",
      "  np_resource = np.dtype([(\"resource\", np.ubyte, 1)])\n",
      "C:\\Users\\peravit2\\Anaconda3\\lib\\site-packages\\tensorboard\\compat\\tensorflow_stub\\dtypes.py:541: FutureWarning: Passing (type, 1) or '1type' as a synonym of type is deprecated; in a future version of numpy, it will be understood as (type, (1,)) / '(1,)type'.\n",
      "  _np_qint8 = np.dtype([(\"qint8\", np.int8, 1)])\n",
      "C:\\Users\\peravit2\\Anaconda3\\lib\\site-packages\\tensorboard\\compat\\tensorflow_stub\\dtypes.py:542: FutureWarning: Passing (type, 1) or '1type' as a synonym of type is deprecated; in a future version of numpy, it will be understood as (type, (1,)) / '(1,)type'.\n",
      "  _np_quint8 = np.dtype([(\"quint8\", np.uint8, 1)])\n",
      "C:\\Users\\peravit2\\Anaconda3\\lib\\site-packages\\tensorboard\\compat\\tensorflow_stub\\dtypes.py:543: FutureWarning: Passing (type, 1) or '1type' as a synonym of type is deprecated; in a future version of numpy, it will be understood as (type, (1,)) / '(1,)type'.\n",
      "  _np_qint16 = np.dtype([(\"qint16\", np.int16, 1)])\n",
      "C:\\Users\\peravit2\\Anaconda3\\lib\\site-packages\\tensorboard\\compat\\tensorflow_stub\\dtypes.py:544: FutureWarning: Passing (type, 1) or '1type' as a synonym of type is deprecated; in a future version of numpy, it will be understood as (type, (1,)) / '(1,)type'.\n",
      "  _np_quint16 = np.dtype([(\"quint16\", np.uint16, 1)])\n",
      "C:\\Users\\peravit2\\Anaconda3\\lib\\site-packages\\tensorboard\\compat\\tensorflow_stub\\dtypes.py:545: FutureWarning: Passing (type, 1) or '1type' as a synonym of type is deprecated; in a future version of numpy, it will be understood as (type, (1,)) / '(1,)type'.\n",
      "  _np_qint32 = np.dtype([(\"qint32\", np.int32, 1)])\n",
      "C:\\Users\\peravit2\\Anaconda3\\lib\\site-packages\\tensorboard\\compat\\tensorflow_stub\\dtypes.py:550: FutureWarning: Passing (type, 1) or '1type' as a synonym of type is deprecated; in a future version of numpy, it will be understood as (type, (1,)) / '(1,)type'.\n",
      "  np_resource = np.dtype([(\"resource\", np.ubyte, 1)])\n"
     ]
    }
   ],
   "source": [
    "import numpy as np\n",
    "import sys\n",
    "from nltk.tokenize import RegexpTokenizer\n",
    "from nltk.corpus import stopwords\n",
    "from keras.models import Sequential\n",
    "from keras.layers import Dense, Dropout, LSTM\n",
    "from keras.utils import np_utils\n",
    "from keras.callbacks import ModelCheckpoint"
   ]
  },
  {
   "cell_type": "code",
   "execution_count": null,
   "metadata": {},
   "outputs": [],
   "source": []
  },
  {
   "cell_type": "code",
   "execution_count": 2,
   "metadata": {},
   "outputs": [],
   "source": [
    "file = open('ThaiNameInEnglish.txt', encoding = 'utf8')\n",
    "processed_inputs = file.read()    #you need to read further characters as well\n",
    "processed_inputs = processed_inputs.lower()"
   ]
  },
  {
   "cell_type": "code",
   "execution_count": 3,
   "metadata": {},
   "outputs": [
    {
     "name": "stdout",
     "output_type": "stream",
     "text": [
      "['\\n', '-', 'a', 'b', 'c', 'd', 'e', 'f', 'g', 'h', 'i', 'j', 'k', 'l', 'm', 'n', 'o', 'p', 'q', 'r', 's', 't', 'u', 'v', 'w', 'y', 'z', '\\u200b']\n",
      "['a', 'b', 'c', 'd', 'e', 'f', 'g', 'h', 'i', 'j', 'k', 'l', 'm', 'n', 'o', 'p', 'q', 'r', 's', 't', 'u', 'v', 'w', 'y', 'z']\n"
     ]
    }
   ],
   "source": [
    "chars = sorted(list(set(processed_inputs)))\n",
    "print(chars)\n",
    "\n",
    "bad_chars = ['-', '\\u200b','\\n']\n",
    "for i in range(len(bad_chars)):\n",
    "    processed_inputs = processed_inputs.replace(bad_chars[i],\"\")\n",
    "\n",
    "chars = sorted(list(set(processed_inputs)))\n",
    "print(chars)"
   ]
  },
  {
   "cell_type": "code",
   "execution_count": 7,
   "metadata": {},
   "outputs": [
    {
     "name": "stdout",
     "output_type": "stream",
     "text": [
      "Total number of characters: 19643\n",
      "Total vocab: 25\n"
     ]
    }
   ],
   "source": [
    "input_len = len(processed_inputs)\n",
    "vocab_len = len(chars)\n",
    "print (\"Total number of characters:\", input_len)\n",
    "print (\"Total vocab:\", vocab_len)"
   ]
  },
  {
   "cell_type": "code",
   "execution_count": 8,
   "metadata": {},
   "outputs": [
    {
     "data": {
      "text/plain": [
       "'kamonnuchkamollakgasarapornjaruwanchirapornjutaratchonthichanaruemonwimonsirisasithonsiriyakornsuphatchasupatsaraorchudashirdsakteeramatnoppadolworapatwuttichaisrikhemmasitthibetkanlayaketkanokchutimatbencharatphuaksapiriyapattharawadeesaranyasiwarakkumaretronnakitpannathatsaneethipkamonpimnipawanwisasaowalakkunchitphonlawatkanitthakamonphanjantawanjatupatjeerapornthikampornthanapornthanittapanisaraphonphinpongsakornphuwadonchanyapornyanisamarisasakonwansupattrakittipornphiyaphongsunisathaptainatthaphongpatiphanpollawatpichitchaiphetcharayutpanupongmetichaiwacharaponsansernanonaphinantaphirakisarajirattitinannutradapattarawadealeenakasididkarunyoochaiyanutnatthapongnatthaphatthakdanaithanakornthanaratnawinphongsaphakphatcharapongwattanakornveerapongsarayutsupachaisaharatsuksawatseangsuriyaanuntawatareeyathansudanatthamonsoothiratkanoksakchiraphatchayanondanuphongthanapoomtanayutteerakannithigunpongpatphinitpeeraphatpuchitphudinanvorapanyaworawichvarittonvasinsuphatthnakitkanyakornthitiworadanattrikanatthapornnisaratploykhwanrungtiwalalitakanokonpeeranatphimjaimekkalanatthawutkanokpornkanyaratcatthaleeyajuthamatchayasathidaratnatchanatnichathanatchapornparichayapriyachatpatthamarattanapornwimonwiyadawilasineesupaphitsiraphatsumittraapichayakrittidetjaruwitchaiwatthanadonthiraphatbarameewatcharinkroyjaithitirakarnnatkamonnattakannatthidadarapornpanidaparatsawanpritsanawarakornwariyasiriphansinaphonsutidasupatidasuphattrasuphatsornsuphaphonpavaritpiyaminpawinrattaponwichayutsurachaiananyotkunchanapakunyakornjaranyajarinyanattananthanyamonpiyaphonpornphanpichamonpimnapatphimnaphapimlaphatpenchanphanidarungarunrujiratlilaneewaranpornwarapornwareewansasitornsirilaksiriwimonsumitaorrawanangsumaleejirapatchayaponchitsanupongdechokanokwankitsanajanjirajiraphatjuralakchontichachutimsthisananareekanpanaddapannikapimchanokpimwareepawidawannapawarantiyawilawansiripornsatreeratsirimasukanyasuthawansuphanneesupatsornsumonthakhunakonjakkaphanthewaritporaminpalidamaysasunsaneesuparapornsutthidaonjirakittichakritparinyapanyakornphatthananmeteerungphetweerinsoravitsuteesorotatiratparamaponpiyadasuphitchayachawanakonnuttakornnuttakulnattaphatnatthasetpatinyapattarapakinaimahisornmahisuanwinaiatipatugridvittayapanuchitnutchanatratchadarattiyawansiyaworawansupanananantayaoatcharakritsanapongjatnipathchonlakarntakrittirawatnantachaiboripatwongsakornvatcharinsomyotsantiatthakornkhanidthanatsudathanunyanawaphatnattapornnitiyaphornpreyapornmontisasakoonratsuttidapapinnawitphitsanupedtongchaiwarutwerapongsittisaksiriphornwirootsiriratthanidapavineethanapongphongphitpawatkanisornthitimanatthadanannapatbenjamatprapadapuyyisaprontipapornnphapannipapornwilaiphatcharinphafunphraeophanpattarapornmonnaphamukdawanworanutwanwasawaranyawaraphonwirakarnsirichanthrasiwatidasupharatoranitoraniornvarakrongkamonkanyaweegulisaraketsarapornjantippajidapajittiwajiraphachanatinadnathaneeduangratthanyapornthanyaphonnitchanannetoapsonbowonratpariyananpanyasiripunyapornporntippornpimonpirawanpennapaphattharaphornlachadapornsuphanidasiphapornsuchanatsudaratsuphannikaonumakanittakorrokotkannigakewalinkhwanruethaikhomraveethanwarattararatnongnaphatnaphatsornnaratipnareeratpraphasiripachayapornpreeyapronpornnapaphaniphakpornphatpakjirarattikanwiphadawirattawanangsadaanchanaathitiyatheerapatteerawatkotchakornkannikakittiyakritsanaketsadapornjaraweejindaratjutatipchawisachutinanthitiyanichapatawantippawantanchanokthanyalakthantiphonboonyaratparisasiriluksujitraorananatcharapornanchaleeissariyakotchagonkamonratkanpitchakunlanatchanukanjiratchayachayanitchalitanutchanichaputtatthatidapornvorakulnarissarapapawarinprommarinphumratphurichayawanthanawantaneewilaiwansarinyasiwatchayahathairatnuengruthaihattayanutthawutteppakornthirasakpanukonakarawatintanonkanchanakanthamaneejanprapajidaphadonlayaphatcharaphapattarawadeerinlaneerungthipwachiraphornwaritsarasiwapornsamitanananukkhapornalisaasamapornchairatthammarakteerapolnipitphakornkanyaratsskantidachutikanduangchitthibpawantheeradanatthineepannaphaphanwasapimtongpimthipornyuwananrungnaphawipadasawineesudarutsuthidasuthinansuwichadaamonrataumapornkaittisakjirapongjetsadathatthanathanakitnavakijnatthaphonnavinkhunitachayaphonchalalainathapronnatthamoltanayatornnatladanantawadeenamphetprakayphetprapasiripissachaphatjarinwichutasasitanonsirinaphasaimaisuphanananusarakittichaichaichanchaiyodnarongkonthantaphongnonthaphatpanyapongsagonchanthimajirawannattayanamthipnuthjareebenjaratwarinthonareeratkittawankrittaphatkrisadakunlapatjomatsawinjannarongthatpongthiwakonthappitaknantapongburinpanotphonkhawitpanudetphuminmethasweerachonsiwakornsuphakitsitthisakgannigakittiparjarinthipjantimachalisathitinanthitipohnnaparratnawaratboonyasaporntawanphatcharapornphattharaphonmanitawachirapornsupakornsarisasuwapitchaarunyajanepopechaiyaphueknathaponnatiphongboonchoopakphoomworrawutgunpiromkansudakaeotajanudsatachanidachopaganuttarikapiyachatpatcharinrawisararujaphawaralaksawitreesirapadsukrittasupapornsureeratjirayutnatthapatthawatchainoppadonbadintronpatachonlasitphithakphongpeerapatapinanakkadechkanokornkanpiromkhamjiranapatchanutnichatipapornthanatchapaphawinplaifunpiyananphatchareephimchanokmonthathiprattiyapronwanidawipawadeewipawansaranpornsasipimsupisarasupitchasupassornarthittiyakanapornchirasakthanawintaratorntheeradechkunlanitkessarapronjeerananthamonwannanthisaniranteeniranratbenjawanpathumpornparichatphatcharidawannusavalentinesirinapasuwanunadisaapinyaathittayaporawatpornchaisakkarinsupphakorngoraphankittiyapornthanyaratphawisamethawalaiwichayaarunratkrittapatkiettisakkhaninkomphetjirayujenrobchayutchaiychetyannawattanapatthanayuteerawutpraditphiphatmakhinyotsaponronnakornsoottisuriyakanauttapornarnontanadjiraprapajenjiranattarikanalinnipapinanongpantilaphatsarapornvarinpornarriyajirannaranthontanaphobtananchainarathipnatthaponnithikornphongsakonpacharapatarathonphuriwatrangsimanwirotsutthanethanchaiadoolathiratkamonthipchonladhathitaphathitiphonbussayapawarisapannaratphiyawanpimonpatmayuwaleemantanavanidasupawadeesuwannahadthayaapitchayaonnuwanjirametyanvarutsattawatapiraksupattapohnnarinthananchaiphirachpornsutrakhonphacharaponpratchayatidaratnamphayuparednaruedoladcharasupawatchorthipthannopchomoraneechakkritsorayapatittaduangkamoljitradakullapattapocharapolnamfonnanthikataweetipkorakodsarawutnaroumonbannawitthitiratsiriwanratsittachayakansuthatipyuwareenarinthimapornjittipornsaipinkodchamontheerapongnarongritkanokkanchanisarakritikaeakarinchanasitwannarataekarachsophananattakitpemikawansiripiyanuchpitchapajutamatsirichonjirapornkornthippawineesaklonwanwiphaphonsucheerasubpiannapasudtidanirachaphairojprasertjaturapornwipasodsrisirikanchalermwittpravenasutthilukkollawatsittiponwisutsarotkitiyapornthanawootpimratachotirodchuleeponapiruksomsrikanjananatthananyuwadeemisspatchareethannaphatnuchnadjansuwitchayapornananyathippawangunniganisachonwimonratmonchanokteerapatchayaninsornramweerapongsupassarathanaphornchalidatantaradphanthippharatchananrungruangsirirutsuratsavadeeangsananutthawootnantapatmanopwatcharaputsuntipabchanachaikhwanyingchainunchidanatpaphatthanyanuntanyalakpornwipalaksanaphonsuwaneethirawatphumsakromsaiwitsanukankanitdennateeruksudakarintipphatcharailadanattaphonthanawatnateeratwanasanannattaponniwatsunaphonsupanatjintanajirootphanatsombutchusakkusimachatuphornnoipobthamkarunthakingkarnkhanjaijanyapatchanthakanchutimathanaponnopparatnaphanutthapornpitchayapitchayaratphimlaphatphiyadaphusanisamintayositawarisawiranchanasuparatanuthidaorapinintirapiyagornpadtarawankanokpronjantharawimolchittimachayaneeyadateeradathanawantunyaponnapatsornbouchompooboonyisapanithapanyapornpiyakornpatpimolphintummadeeputhitaphatsaramiyawadeemiyawateewongladasarochasirikonsuchanankanladakanlayaneekulnattachadaphonchonnikannatchayathirapornnapasnapassawanphronnapapinladapenpitchapukjeeraphattharathonpinyadamalligamalaipornratchadaphoneworradawannaponwannipasasitonsiritornkodchagkornkamonwanchananchidanapichanarupronbenchamatphanutchakornwiramonsunareekopkiadkittitachkittipongjetsadakornnattawutpornprompanuvolaponwitsawasikharinsitthiphongsutthiphongseksanphanthilayurikanokphacharauaoraratkhajeephanchanthasupichayanatthakenduangchajdutdueanthanaphaknapakannarisawannipatorrnnipapronpanatdapanisapalitapphonphanphatcharaphonpatcharawadeeworachartsomprasongsaranratsureerutawasadaaomsinchittikittiyaneekanyamatskanphitchakunthidakwanjirajaruneechanathipnattawannatthayaphonrujinannittayaphanatdapatchareepornpiimchanokphimniphamanunchayamuthitamathineerungthiwasuraratsopharatoanchaliphonutsaneeyapornnatdanaikanikakoraphinkalisthayanintanapornnongnatnapatsarannarisaranutchanartpaphawadeepatnareephitayaratmanatsawimassayarungnaparujiralawansasikansaifonsiriphansaathichakritthepchotvisootthanadolsinghakaikawinnakansuchayajanpenchidaphachanigannichakannichaphatthanitapaniwarinprakaikanphimonmatpantiramintadarutairatsajiratsasimaamonphakansineechatpongtanyabunwutthichaisuratkaraketphannapatchonnikarnnithikangonthornkrittametkittipodthanundornnathaphongthasawattheeraphatnaruedonnarubodinnitikornruttahpongweerapatsuphakornsattabongkotchapisekaritouchezrakrongkeawchanitathanutchayaparaweephakakaeophattharawanwonnipawitchayapornsukitapasupaphonananyapornkanasidjumphotsorasakanuchatpunyapatwasawatparitpornsuphakkamonthananchonnichanawaphonbenjamaspongsukphennaphasirirakpratchawaritthasuwapichakewarinkarithathanamastriyanutnaphaketnipawannirawadibeeganbaifernpapassarapiyathidapronpimonploypailinmayurayaowaretrujikanlutdawansasiprapasupanitasuphansasupansasuphawadeesumitrasuwanneeaphisarakonlawutthanuthampadungkaitphanuwitphanuphongsupawutchitsanuphongkamonphatkantharatchilaphontuengthongthatphichathanchanoknanitsaranaphasornphirayamayureeromchatruethaiwanwannisasirapatsonarthittayaarreeyakraingsakjirayuthnattachainuttanonpatiwatponpongsatonkantigakatwadeekhwanchirachirawanduangnapanaritsarkornbaibunpratthanaphrueksarasinanworrapornsasiwimonsomruethaisutasineechonnathichongphontanakornwachiraphutwatcharakonwatthanaphatweraponanyamonkanthichakhemchirachutamatyanikanatthanitnaphatsawanniratchapornnisakornboontiwabutsabaphanwisaphatharaphanpantrirasutattakanitjedsadapornnatphasitboonyaritpiyapitsanuphummarinrawitsulasakkhemikachontidathitipornnidtayanussarapawisudapremkamonploykaewpitchapornpimladdawichayadaariyaaunyanetaunrayaoareeyakullaphatkosukejiradetnatchaphonnatthakarnnattapongpiyapongpaitoonnutthakankhunakornnaphatchathippharatthanakannaphatsonployphailinpatcharapapraetongveyadawiraphasomraksuchadaamonradaalichanontapatnapasinnarudonpeetiphonwootthipongaphiseksedtichamattapongkantapornapichaiketwarintitathanitthathawunrutnapasornbutsayamatpiyapornsiripimmadaphenphisutpattaraminveerisasujintornsupawineekittiphumnonthakarnporametpitiloekpisitpattarapongjetsadapornpranatdasiriamainthuonkunakornjeerapatworahcetsasiwongthinandachonlakornwirawatdaruneethassaneephapadapawinaramitasansaneesomsirikamonwatkritsadakometchanatipchatchawanthanachonthanathonthiraphongnopphakaoburapapiyathatrungsanvittawatsaransahatphapsumetnaravitkunlapornjirachayanattharatnaritsaranatchamonpajareepiyapornpiyawanpremruethaiphetcharaphakhananrattanapornlaknarawashirapornsarutasasiphasiripronsawitisuwisaorapunkancharikachaweewanchanakannattatidanuttayatamonwanphapavarinpaparsarapariyapatpimthadaphetmaneemonthidawichayapornsakunichsuchayasuphitchachutikarnduangsamondaodenprapatsarapornpanorapankitsadakittinunchatsadakornnattagronnattawattraiphopthanakritthanarittreeranannantakannantawatnitipongpacharaponphanudetphumiphatsorrachaisalavutsahapapkantanichakonploymaneeradamaneearisarajakapongjatuphatchaitawatnuttakitnattawootnatthawatbulachetpremprachaphongsakphatthanapongworavutvarunchitsuwatnapapornbudsabapiyakonpiyaratphenphitchaklunpreeyachanchanookchadapornthunyarutnatthaphornpakamasmonthitamintrayaowapharattanawalisujiwansirichanoksupalaksupaponkomsunnonthawatbunyaritpannawatpanudachratchaponkunsudachayudanitchakamtinnanakasornnaphassornrenuworrawanwanlayasotidachaluwityodsakornkaewjaisankaewkanookwankrongkaewkingkankedmaneechuthamanichurarakchaliyanattathidanatsikarnnidchanantaksinatanyapornnatachapreeyalukpiyamartphonchitapronpimonpornsudaploypanpakhwanpichanannatnarinatthawandoungkamolphijittramanatchayayuwaluckruchiralalidawararatsupawansoavalukoranatkritsanaponchaiyakornthagoolnattakronthanongsaksuradatduangrutainualchanoknawichsikanbenchaphonkitiponsongsidnateenarathonphongsathonrattanasinwiwatsutouchketmaneenuttaporndarikanutpraweepankhwanpimpilaimontatipkittitatkraisitkhajonsakjakkridnachapolshongphontanapoltitikhanitthakhwanchanokkhwanpitchachanchaijanthachindaratchanoksudachitchanoknadchanatthayaporndararatduenpennonthayanunsimapattamapornpiyapronpatcharapornpattarinanankorawankanlayavadeekandamaneekunlanutjureepornchananyachanyanattidadarathomtongtuddawthipsudanatthikanareebenjmasbenyatipeprasitapreeyaphachpanthipapannarainattkannichakornpanticharatchaneekonnuengkarattrakanthanaphonthananatsiwatrattiynpornapatsaraniradaphotsawatchantimanawapornphattarapornrawadeevimonratsavitasuphasineesuwanutsopaarpassonkrittinatkhomsanjirakitjiratthinonnattavatthirawitpramotmontrirewatwattanachaisurasekploychompunattharinkanokniphakanogpornthaweepornpreeyapornkitbowornkhiriratprasitthichaiphongpisutpantachaphoomminwachirawitsupharadangamsireejariyanattanichanamsomratipornsuphattidaphodcharaphonnoknoinonsineenattiyarattanakarnsiranyachiratwasuratwittayaadithepyuwanidaamnatkhunpananjanejiranuchnichanatthakannipapornpraphatsornsupatchasaowaneeoratainopphadonnawaponpichitweerasakdasurangpakkawatarriratchanthanayardarratpoonyisaphetladamaleechatyuphasuphatrasupatthachonbodeenopponworapolwanchanaukritketsarinkanoklakkanyanatkunratnattaritatomoyothidapornpanraweesiraneesuwimonarawarnaoythipprathipanuchitapiwatpathomphonkanittikajatupornjansudanutchananpimpafatimayupawanluedeesuangsudatipsumonwadeethawankornthatsaneeyanamphonumapornchonnipawannikapansachonkitiwannutthanunnichamonbunyaratpawanratphuksarattiyakornwipapornsuphatthaatcharacholthichataweewannuttarineewannapornnaruemomnattaweenarintornphannaphakmathurotphongsapakjitranuchchalmasrisamitakawisaratichanutchareebenjararatpattamafachiyamonruedeemarataruttikanradsameesuphalaksukannanatsupatsonorawanragsitaworawarunkampeewatnathapatkhatesireepornkanokphannakornpornwarinkongtupkiardtisaktinnapopphonlachetphodsawtwatcharapongwisitsirisuppachoksetthaphankunladapattawankhritthakonnattaphongteerapongnoppanatnoppharatporraminprachaphiraphatpeerayutpattarapatsomsakathiwatapisitnatnareenattharikathanatchaphonnattharuemonniyadanilawanpemruethaiphavineewipawatsitthiphonsinsapchayanithanatpornnitchayatubtrapitchaornmontitamutitarattiyapornaruneearateechonladapitchaponwisarutjanthranutthapongdanuchatiwtawinnirutperadonalongkornjitupornnapadolmathurodroengchaiweeraphongwarinthornjirawatteeraphatsutthineethanomjitthaschaponsirinyathirphontittayathipsudqphaewamanesornradasiriyasitaanutsarakongkiadcharuwatjeeraphatchonlathittikamporntanatornpeerapongratthathammanoonwattanaijindaratklayprapatsornphatcharaphitphimchayawassanavirawansukandasurumphaanattiyachiranuwattongdachtanaphatpipatphongwiritponsongkanangkanarattanawaleechatchonthanittawatchainontawatparanutphonlawitpoositworamatsirasakakaraphonkodchakornkunjirajantanathananyanatanontassaneenatraneebenyadaphitchayaphonsomwanjarernchoknaretphakphumphumipatwarayuhtsattanananatchaipapawinkittisakkhomkritkomsanchatinonchanatchacharchonnutthapondechapontattepthanasaknantayanutisupattarachaiadisonanurukanusornattawutarthitnatthapohndetnarongthanathipsanchaisutirachnuttapongdanaipongtossapornnopphonboriruksaksitsuphapjakkitjiraphongchaytawatnatthaphomtritostanawatthanayutprasitparispiyawatphongnateepornpipatpacharapongphichaiyutphisitpeeraponpakkadunmonteeradratchanonritthichaiworaphonwatcharaphongwerayutwirasathiansuparoeksupawichsawitsatitthipamaneewasineesairungkrissadakitisakjedsadachonnachatchateethanapatnontakritnattapholnanthapongpatiphatpatiparnphongphonpongsiriphodsanatpatcharaphonphachokphutchinphuridachmonchironnachaironachairatthananwarathepwaruneevenussyaarissarapornkaisakonjamroensakjiratsinyanakornnattapoltinnapobthanachitthanaphongtharathepthucaponnaminphichayutphichitphithayapisitponpheerapatpakapongphakkawatmonthonmahasamutmathanonwansawangsupakitsuphawatkittipottanaphpngprabpramkidsanachanawatnattaphornprasopchokeworawutkununyaphonthippimolratmaniratjamrusnatthachakthipmaneekornrangsanvilassuradetteeradetchulapatkunburusdechaphonthanaphoneteeraponnapaponphongphatphakkhawatrittipornsasathonsamakornsomchaialongkronsettawutpongsakphuttpongphennapasuphattasuphaphankitiphongkongsakchayangkoolnaranonnattapatphichaphodwichaisitthachaisutthinanteerathatsitthiponnatchapoljutipongteerayootkedsarinjirattikanchatsudadarinpornnaphatparanyamaytineeramidawarisarawaruntipsutthichakannaratkeereesukchayakornnarakornnaritprakasitpeeradonmanassaweerungnirunvongsathonwiroonkanokratjittawanjirapachatchadapornchettidathitichayatanutdathanphitchanatthaphanitinanpreeyapatpanthongpannakarnphipapornrodsarinwanatchapornsunitraammarapornkitsanapongkrissanathanakonnothasinjanyapornjunjiranattamonthipawanthanareebanthitabenjamapornphonthiphaphasineeworanuchsaranlaksureepornhathaichanokatitiyaorrathaionphailinkhasemsakjenjobchalemchaikarakedkwanpraphakhattiyajanthidachutharatchalewrmkwanthadapornpantanatchanaetnapapaweenaphakawanpatcharananmanthanamatineerattipronrattanawanwalaisittineeaphichayaarayakhemchokchainakharinphitchakonkhemmanitjintapronchalineethitaphonnatthanichanatthanitchapareeratphirunratpachmaneerattanawareeworaratwaranyapornsuchanyasunanthasauwaluckkrittinkitipongcheraponchatkaewthanachatprontananyaneritchayaboontharikabutsayakornpapaweephornmaneewanphuangphetpeerawanphawineerungrattiyaphonwichudasunittanungruedeekirtanantanatantanapontanananthanwanavapatpaponteekrittiyakingdaoganikachanikanchalinyachulitanatthathidathichakonthipphawantanwaratplaifonphanniphapassamonmananyamallikaruphinyalugkanawachirayawilanthitasirintrakwanthaichannapaschinnawatnutchaphongnorrachonnarasnitikonwatcharapatwanchatkonkanokkranyathipkunyarakirachadaketsaraphonchuthamarttawanchaythipkesornpranpreyaparfanpreawphanphoosanisasuthasineesuwananarisaauphaphonkitsanathepkittiphopkaiwitkultidajantakanjinjutanatnapapathimaplayfonpornsiriphetcharatpawadeemeentitalaksanaleeworraratwarineesupreyasuphawidachavalvittharadonteeraphamonthepsakharetkanokkonjasitartitirattadsanawadeepaphatsornpornpormpimpakarnpimpikulmanatsawanlindasongkransathitasunantasupichayasuphatsaraawatcharakrisdaluckchaloemsakchainonkoontidrakunradachutimontayidanatthapormbongkotbutyaratprakaidawphatcharamairungnapapornsuwidaarreeyachirawatjirapanchanonnapattheeraphopnitipanpanaponpatcharapholpoowadolwatsapongweerachotkatanchaleekamonlukphafanwarapassonphrueksasarawaneesuphaphornaitsariyawongsathonchanpennuttawadeebutsakonpratinyapanitdapanthipphacharamaneeprontipmaneeratlanchaphonkrittikornkitsanaphankittikornchinawutchetthaphruenthumrattarintheerapanpeamwongpongsatornpasinpakkatornpataraponpanuwatrattigonrittisaktheerapornmukdawongphansurichaapisaraonpreyaarandakrisakorntasanaipichaiperawaspeerawatwatcharaphatsittichaisittichokadinanamorntepakraritammarinkrittayapornaunyaratkhanasapekkritmattigajanyamatsalinkomkitchaloenphonnathaphopsongwootnaruechitneatitornpatiponpathompongpiyorotphankeaopitchapobpitchayutrattanachaiwarunyuweerawutsomponsirirachsiwaanuphongakrowaekkaphobjutamassuphinyokittaphapchaipacharaphonpornthipmonthichaamonmaneejaroonjerapoomnatchanondetchatthanaphatnaruebetnanrachanprateeppansawutphichetphattarapongphattharaponminthadaweraphonsaksayarmsittipongphachramonvatjirasopitchakisanajeerawatthitiphongmongkhonsuthepatikanarswachaiaratdanatthawipanidchanunrattikarnwatcharaboonchokattanansuphawineetarathip'"
      ]
     },
     "execution_count": 8,
     "metadata": {},
     "output_type": "execute_result"
    }
   ],
   "source": [
    "processed_inputs"
   ]
  },
  {
   "cell_type": "code",
   "execution_count": null,
   "metadata": {},
   "outputs": [],
   "source": []
  },
  {
   "cell_type": "code",
   "execution_count": 10,
   "metadata": {},
   "outputs": [],
   "source": [
    "# #clean\n",
    "# f = open(\"ThaiNameInEnglish.txt\",'r', encoding='utf-8')\n",
    "# lines = f.readlines()\n",
    "# f.close()\n",
    "# excludedWord = [\"\\n\",'-','\\u200b']\n",
    "# newLines = []\n",
    "# for line in lines:\n",
    "#     newLines.append(' '.join([word for word in line.split() if word not in excludedWord]))\n",
    "\n",
    "# f = open(\"ThaiNameInEnglish.txt\", 'w', encoding='utf-8')\n",
    "# for line in lines:\n",
    "#     f.write(\"{}\\n\".format(line))\n",
    "# f.close()"
   ]
  },
  {
   "cell_type": "code",
   "execution_count": 11,
   "metadata": {},
   "outputs": [],
   "source": [
    "# processed_inputs = open(filename, 'r', encoding='utf-8').read()\n",
    "# processed_inputs = processed_inputs.lower()\n",
    "# processed_inputs"
   ]
  },
  {
   "cell_type": "code",
   "execution_count": null,
   "metadata": {},
   "outputs": [],
   "source": []
  },
  {
   "cell_type": "code",
   "execution_count": 12,
   "metadata": {},
   "outputs": [],
   "source": [
    "## https://stackabuse.com/text-generation-with-python-and-tensorflow-keras/"
   ]
  },
  {
   "cell_type": "code",
   "execution_count": 13,
   "metadata": {},
   "outputs": [],
   "source": [
    "## https://machinelearningmastery.com/text-generation-lstm-recurrent-neural-networks-python-keras/"
   ]
  },
  {
   "cell_type": "code",
   "execution_count": 14,
   "metadata": {},
   "outputs": [],
   "source": [
    "char_to_num = dict((c, i) for i, c in enumerate(chars))"
   ]
  },
  {
   "cell_type": "code",
   "execution_count": 15,
   "metadata": {},
   "outputs": [],
   "source": [
    "seq_length = 100\n",
    "x_data = []\n",
    "y_data = []"
   ]
  },
  {
   "cell_type": "code",
   "execution_count": 16,
   "metadata": {},
   "outputs": [],
   "source": [
    "for i in range(0, input_len - seq_length, 1):\n",
    "    # Define input and output sequences\n",
    "    # Input is the current character plus desired sequence length\n",
    "    in_seq = processed_inputs[i:i + seq_length]\n",
    "\n",
    "    # Out sequence is the initial character plus total sequence length\n",
    "    out_seq = processed_inputs[i + seq_length]\n",
    "\n",
    "    # We now convert list of characters to integers based on\n",
    "    # previously and add the values to our lists\n",
    "    x_data.append([char_to_num[char] for char in in_seq])\n",
    "    y_data.append(char_to_num[out_seq])"
   ]
  },
  {
   "cell_type": "code",
   "execution_count": 17,
   "metadata": {},
   "outputs": [
    {
     "name": "stdout",
     "output_type": "stream",
     "text": [
      "Total Patterns: 21942\n"
     ]
    }
   ],
   "source": [
    "n_patterns = len(x_data)\n",
    "print (\"Total Patterns:\", n_patterns)"
   ]
  },
  {
   "cell_type": "code",
   "execution_count": 18,
   "metadata": {},
   "outputs": [],
   "source": [
    "X = np.reshape(x_data, (n_patterns, seq_length, 1))\n",
    "X = X/float(vocab_len)"
   ]
  },
  {
   "cell_type": "code",
   "execution_count": 19,
   "metadata": {},
   "outputs": [],
   "source": [
    "y = np_utils.to_categorical(y_data)"
   ]
  },
  {
   "cell_type": "code",
   "execution_count": 20,
   "metadata": {},
   "outputs": [
    {
     "name": "stdout",
     "output_type": "stream",
     "text": [
      "WARNING:tensorflow:From C:\\Users\\peravit2\\Anaconda3\\lib\\site-packages\\keras\\backend\\tensorflow_backend.py:74: The name tf.get_default_graph is deprecated. Please use tf.compat.v1.get_default_graph instead.\n",
      "\n",
      "WARNING:tensorflow:From C:\\Users\\peravit2\\Anaconda3\\lib\\site-packages\\keras\\backend\\tensorflow_backend.py:517: The name tf.placeholder is deprecated. Please use tf.compat.v1.placeholder instead.\n",
      "\n",
      "WARNING:tensorflow:From C:\\Users\\peravit2\\Anaconda3\\lib\\site-packages\\keras\\backend\\tensorflow_backend.py:4138: The name tf.random_uniform is deprecated. Please use tf.random.uniform instead.\n",
      "\n",
      "WARNING:tensorflow:From C:\\Users\\peravit2\\Anaconda3\\lib\\site-packages\\keras\\backend\\tensorflow_backend.py:133: The name tf.placeholder_with_default is deprecated. Please use tf.compat.v1.placeholder_with_default instead.\n",
      "\n",
      "WARNING:tensorflow:From C:\\Users\\peravit2\\Anaconda3\\lib\\site-packages\\keras\\backend\\tensorflow_backend.py:3445: calling dropout (from tensorflow.python.ops.nn_ops) with keep_prob is deprecated and will be removed in a future version.\n",
      "Instructions for updating:\n",
      "Please use `rate` instead of `keep_prob`. Rate should be set to `rate = 1 - keep_prob`.\n"
     ]
    }
   ],
   "source": [
    "model = Sequential()\n",
    "model.add(LSTM(256, input_shape=(X.shape[1], X.shape[2]), return_sequences=True))\n",
    "model.add(Dropout(0.2))\n",
    "model.add(LSTM(256, return_sequences=True))\n",
    "model.add(Dropout(0.2))\n",
    "model.add(LSTM(128))\n",
    "model.add(Dropout(0.2))\n",
    "\n",
    "# model.add( Dense( 1024, activation='relu' ) )\n",
    "# model.add( Dropout(0.5) )\n",
    "\n",
    "model.add(Dense(y.shape[1], activation='softmax'))"
   ]
  },
  {
   "cell_type": "code",
   "execution_count": 21,
   "metadata": {},
   "outputs": [
    {
     "name": "stdout",
     "output_type": "stream",
     "text": [
      "WARNING:tensorflow:From C:\\Users\\peravit2\\Anaconda3\\lib\\site-packages\\keras\\optimizers.py:790: The name tf.train.Optimizer is deprecated. Please use tf.compat.v1.train.Optimizer instead.\n",
      "\n",
      "WARNING:tensorflow:From C:\\Users\\peravit2\\Anaconda3\\lib\\site-packages\\keras\\backend\\tensorflow_backend.py:3295: The name tf.log is deprecated. Please use tf.math.log instead.\n",
      "\n"
     ]
    }
   ],
   "source": [
    "model.compile(loss='categorical_crossentropy', optimizer='adam')"
   ]
  },
  {
   "cell_type": "code",
   "execution_count": 22,
   "metadata": {},
   "outputs": [],
   "source": [
    "filepath = \"name_gen.hdf5\"\n",
    "checkpoint = ModelCheckpoint(filepath, monitor='loss', verbose=1, save_best_only=True, mode='min')\n",
    "desired_callbacks = [checkpoint]"
   ]
  },
  {
   "cell_type": "code",
   "execution_count": 23,
   "metadata": {
    "scrolled": true
   },
   "outputs": [
    {
     "name": "stdout",
     "output_type": "stream",
     "text": [
      "WARNING:tensorflow:From C:\\Users\\peravit2\\Anaconda3\\lib\\site-packages\\tensorflow\\python\\ops\\math_grad.py:1250: add_dispatch_support.<locals>.wrapper (from tensorflow.python.ops.array_ops) is deprecated and will be removed in a future version.\n",
      "Instructions for updating:\n",
      "Use tf.where in 2.0, which has the same broadcast rule as np.where\n",
      "Epoch 1/10\n",
      "21942/21942 [==============================] - 39s 2ms/step - loss: 2.7938\n",
      "\n",
      "Epoch 00001: loss improved from inf to 2.79379, saving model to name_gen.hdf5\n",
      "Epoch 2/10\n",
      "21942/21942 [==============================] - 35s 2ms/step - loss: 2.7526\n",
      "\n",
      "Epoch 00002: loss improved from 2.79379 to 2.75263, saving model to name_gen.hdf5\n",
      "Epoch 3/10\n",
      "21942/21942 [==============================] - 35s 2ms/step - loss: 2.7453\n",
      "\n",
      "Epoch 00003: loss improved from 2.75263 to 2.74533, saving model to name_gen.hdf5\n",
      "Epoch 4/10\n",
      "21942/21942 [==============================] - 35s 2ms/step - loss: 2.7438\n",
      "\n",
      "Epoch 00004: loss improved from 2.74533 to 2.74379, saving model to name_gen.hdf5\n",
      "Epoch 5/10\n",
      "21942/21942 [==============================] - 35s 2ms/step - loss: 2.7340\n",
      "\n",
      "Epoch 00005: loss improved from 2.74379 to 2.73399, saving model to name_gen.hdf5\n",
      "Epoch 6/10\n",
      "21942/21942 [==============================] - 35s 2ms/step - loss: 2.7199\n",
      "\n",
      "Epoch 00006: loss improved from 2.73399 to 2.71989, saving model to name_gen.hdf5\n",
      "Epoch 7/10\n",
      "21942/21942 [==============================] - 35s 2ms/step - loss: 2.7113\n",
      "\n",
      "Epoch 00007: loss improved from 2.71989 to 2.71126, saving model to name_gen.hdf5\n",
      "Epoch 8/10\n",
      "21942/21942 [==============================] - 35s 2ms/step - loss: 2.6114\n",
      "\n",
      "Epoch 00008: loss improved from 2.71126 to 2.61142, saving model to name_gen.hdf5\n",
      "Epoch 9/10\n",
      "21942/21942 [==============================] - 35s 2ms/step - loss: 2.4785\n",
      "\n",
      "Epoch 00009: loss improved from 2.61142 to 2.47847, saving model to name_gen.hdf5\n",
      "Epoch 10/10\n",
      "21942/21942 [==============================] - 34s 2ms/step - loss: 2.3892\n",
      "\n",
      "Epoch 00010: loss improved from 2.47847 to 2.38920, saving model to name_gen.hdf5\n"
     ]
    },
    {
     "data": {
      "text/plain": [
       "<keras.callbacks.History at 0x1d6a37e1208>"
      ]
     },
     "execution_count": 23,
     "metadata": {},
     "output_type": "execute_result"
    }
   ],
   "source": [
    "model.fit(X, y, epochs=10, batch_size=256, callbacks=desired_callbacks)"
   ]
  },
  {
   "cell_type": "code",
   "execution_count": 1,
   "metadata": {},
   "outputs": [
    {
     "ename": "NameError",
     "evalue": "name 'model' is not defined",
     "output_type": "error",
     "traceback": [
      "\u001b[1;31m---------------------------------------------------------------------------\u001b[0m",
      "\u001b[1;31mNameError\u001b[0m                                 Traceback (most recent call last)",
      "\u001b[1;32m<ipython-input-1-7d6e4f36822f>\u001b[0m in \u001b[0;36m<module>\u001b[1;34m\u001b[0m\n\u001b[0;32m      1\u001b[0m \u001b[0mfilename\u001b[0m \u001b[1;33m=\u001b[0m \u001b[1;34m\"name_gen.h5\"\u001b[0m\u001b[1;33m\u001b[0m\u001b[1;33m\u001b[0m\u001b[0m\n\u001b[1;32m----> 2\u001b[1;33m \u001b[0mmodel\u001b[0m\u001b[1;33m.\u001b[0m\u001b[0mload_weights\u001b[0m\u001b[1;33m(\u001b[0m\u001b[0mfilename\u001b[0m\u001b[1;33m)\u001b[0m\u001b[1;33m\u001b[0m\u001b[1;33m\u001b[0m\u001b[0m\n\u001b[0m\u001b[0;32m      3\u001b[0m \u001b[0mmodel\u001b[0m\u001b[1;33m.\u001b[0m\u001b[0mcompile\u001b[0m\u001b[1;33m(\u001b[0m\u001b[0mloss\u001b[0m\u001b[1;33m=\u001b[0m\u001b[1;34m'categorical_crossentropy'\u001b[0m\u001b[1;33m,\u001b[0m \u001b[0moptimizer\u001b[0m\u001b[1;33m=\u001b[0m\u001b[1;34m'adam'\u001b[0m\u001b[1;33m)\u001b[0m\u001b[1;33m\u001b[0m\u001b[1;33m\u001b[0m\u001b[0m\n",
      "\u001b[1;31mNameError\u001b[0m: name 'model' is not defined"
     ]
    }
   ],
   "source": [
    "filename = \"name_gen.hdf5\"\n",
    "model.load_weights(filename)\n",
    "model.compile(loss='categorical_crossentropy', optimizer='adam')"
   ]
  },
  {
   "cell_type": "code",
   "execution_count": 25,
   "metadata": {},
   "outputs": [],
   "source": [
    "int_to_char = dict((i, c) for i, c in enumerate(chars))"
   ]
  },
  {
   "cell_type": "code",
   "execution_count": 26,
   "metadata": {},
   "outputs": [
    {
     "name": "stdout",
     "output_type": "stream",
     "text": [
      "Random Seed:\n",
      "\" attanicha\n",
      "namsom\n",
      "ratiporn\n",
      "suphattida\n",
      "phodcharaphon\n",
      "noknoi\n",
      "nonsinee\n",
      "nattiya\n",
      "rattanakarn\n",
      "siranya\n",
      "chira \"\n"
     ]
    }
   ],
   "source": [
    "start = np.random.randint(0, len(x_data) - 1)\n",
    "pattern = x_data[start]\n",
    "print(\"Random Seed:\")\n",
    "print(\"\\\"\", ''.join([int_to_char[value] for value in pattern]), \"\\\"\")"
   ]
  },
  {
   "cell_type": "code",
   "execution_count": null,
   "metadata": {},
   "outputs": [],
   "source": []
  },
  {
   "cell_type": "code",
   "execution_count": null,
   "metadata": {},
   "outputs": [],
   "source": []
  },
  {
   "cell_type": "code",
   "execution_count": 31,
   "metadata": {},
   "outputs": [
    {
     "name": "stdout",
     "output_type": "stream",
     "text": [
      "Seed:\n",
      "\" yut\n",
      "phisit\n",
      "peerapon\n",
      "pakkadun\n",
      "monteerad\n",
      "ratchanon\n",
      "ritthichai\n",
      "woraphon\n",
      "watcharaphong\n",
      "werayut\n",
      "wirasathi \"\n",
      "\n",
      "pana\n",
      "Done.\n"
     ]
    }
   ],
   "source": [
    "# pick a random seed\n",
    "start = np.random.randint(0, len(x_data)-1)\n",
    "pattern = x_data[start]\n",
    "print (\"Seed:\")\n",
    "print (\"\\\"\", ''.join([int_to_char[value] for value in pattern]), \"\\\"\")\n",
    "# generate characters\n",
    "for i in range(5):\n",
    "    x = np.reshape(pattern, (1, len(pattern), 1))\n",
    "    x = x / float(vocab_len)\n",
    "    prediction = model.predict(x, verbose=0)\n",
    "    index = np.argmax(prediction)\n",
    "    result = int_to_char[index]\n",
    "    seq_in = [int_to_char[value] for value in pattern]\n",
    "    sys.stdout.write(result)\n",
    "    pattern.append(index)\n",
    "    pattern = pattern[1:len(pattern)]\n",
    "    \n",
    "print (\"\\nDone.\")"
   ]
  },
  {
   "cell_type": "code",
   "execution_count": null,
   "metadata": {},
   "outputs": [],
   "source": []
  },
  {
   "cell_type": "code",
   "execution_count": null,
   "metadata": {},
   "outputs": [],
   "source": []
  },
  {
   "cell_type": "code",
   "execution_count": null,
   "metadata": {},
   "outputs": [],
   "source": []
  },
  {
   "cell_type": "code",
   "execution_count": null,
   "metadata": {},
   "outputs": [],
   "source": []
  },
  {
   "cell_type": "code",
   "execution_count": null,
   "metadata": {},
   "outputs": [],
   "source": []
  },
  {
   "cell_type": "code",
   "execution_count": null,
   "metadata": {},
   "outputs": [],
   "source": []
  },
  {
   "cell_type": "code",
   "execution_count": null,
   "metadata": {},
   "outputs": [],
   "source": []
  },
  {
   "cell_type": "code",
   "execution_count": null,
   "metadata": {},
   "outputs": [],
   "source": []
  },
  {
   "cell_type": "code",
   "execution_count": 33,
   "metadata": {},
   "outputs": [
    {
     "name": "stdout",
     "output_type": "stream",
     "text": [
      "Seed:\n",
      "\" \n",
      "thomtong\n",
      "tuddaw\n",
      "thipsuda\n",
      "natthika\n",
      "naree\n",
      "benjmas\n",
      "benyatipe\n",
      "prasita\n",
      "preeyaphach\n",
      "panthipa\n",
      "pannarai\n",
      "nat \"\n",
      "anat\n",
      "panan\n",
      "Done.\n"
     ]
    }
   ],
   "source": [
    "# pick a random seed\n",
    "start = np.random.randint(0, len(x_data)-1)\n",
    "pattern = x_data[start]\n",
    "print (\"Seed:\")\n",
    "print (\"\\\"\", ''.join([int_to_char[value] for value in pattern]), \"\\\"\")\n",
    "# generate characters\n",
    "for i in range(10):\n",
    "    x = np.reshape(pattern, (1, len(pattern), 1))\n",
    "    x = x / float(vocab_len)\n",
    "    prediction = model.predict(x, verbose=0)\n",
    "    index = np.argmax(prediction)\n",
    "    result = int_to_char[index]\n",
    "    seq_in = [int_to_char[value] for value in pattern]\n",
    "    sys.stdout.write(result)\n",
    "    pattern.append(index)\n",
    "    pattern = pattern[1:len(pattern)]\n",
    "    \n",
    "print (\"\\nDone.\")"
   ]
  },
  {
   "cell_type": "code",
   "execution_count": null,
   "metadata": {},
   "outputs": [],
   "source": []
  },
  {
   "cell_type": "code",
   "execution_count": null,
   "metadata": {},
   "outputs": [],
   "source": []
  },
  {
   "cell_type": "code",
   "execution_count": null,
   "metadata": {},
   "outputs": [],
   "source": []
  },
  {
   "cell_type": "code",
   "execution_count": null,
   "metadata": {},
   "outputs": [],
   "source": []
  },
  {
   "cell_type": "code",
   "execution_count": null,
   "metadata": {},
   "outputs": [],
   "source": [
    "# explanable ai\n",
    "# siamit network ## capsule network\n",
    "# Graph data แปลงสกุลเงิน จากดอลไปบาทใช้อัตราแลกเปลี่ยนเท่าไหร่ ลองวาดมาเป็นแผนผัง\n",
    "# attention model สร้างโมเดลที่มันรู้ว่าควรจะโฟกัสตรงไหน\n",
    "# "
   ]
  },
  {
   "cell_type": "markdown",
   "metadata": {},
   "source": [
    "# adversarial attack\n",
    "discriminative models ใช้ช่วย non-mama ได้\n"
   ]
  },
  {
   "cell_type": "code",
   "execution_count": null,
   "metadata": {},
   "outputs": [],
   "source": []
  }
 ],
 "metadata": {
  "kernelspec": {
   "display_name": "Python 3",
   "language": "python",
   "name": "python3"
  },
  "language_info": {
   "codemirror_mode": {
    "name": "ipython",
    "version": 3
   },
   "file_extension": ".py",
   "mimetype": "text/x-python",
   "name": "python",
   "nbconvert_exporter": "python",
   "pygments_lexer": "ipython3",
   "version": "3.7.3"
  }
 },
 "nbformat": 4,
 "nbformat_minor": 2
}
