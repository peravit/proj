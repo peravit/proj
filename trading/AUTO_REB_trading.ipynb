{
 "cells": [
  {
   "cell_type": "code",
   "execution_count": 1,
   "metadata": {},
   "outputs": [],
   "source": [
    "import numpy as np\n",
    "import ccxt\n",
    "from ccxt.base.exchange import Exchange\n",
    "from ccxt.base.errors import InsufficientFunds\n",
    "from ccxt.base.errors import BadRequest\n",
    "import schedule\n",
    "import time\n",
    "from oauth2client.service_account import ServiceAccountCredentials\n",
    "import gspread\n",
    "import ssl\n",
    "import json\n",
    "import requests\n",
    "from datetime import date\n",
    "from songline import Sendline"
   ]
  },
  {
   "cell_type": "code",
   "execution_count": 2,
   "metadata": {},
   "outputs": [],
   "source": [
    "try:\n",
    "    _create_unverified_https_context = ssl._create_unverified_context\n",
    "except AttributeError:\n",
    "    pass\n",
    "else:\n",
    "    ssl._create_default_https_context = _create_unverified_https_context"
   ]
  },
  {
   "cell_type": "code",
   "execution_count": 3,
   "metadata": {},
   "outputs": [],
   "source": [
    "url = 'xx'\n",
    "token = 'x'\n",
    "headers = {'content-type':'application/x-www-form-urlencoded','Authorization':'Bearer '+token}\n",
    "messenger = Sendline(token)"
   ]
  },
  {
   "cell_type": "code",
   "execution_count": 4,
   "metadata": {},
   "outputs": [],
   "source": [
    "api_key = 'xxx' # API Keys\n",
    "secret = 'xx' # API Secret\n",
    "subaccount = 'x'  # Choose sub-acc\n",
    "\n",
    "ftx = ccxt.ftx({\n",
    "    'api_key': api_key,\n",
    "    'secret': secret,\n",
    "    'enableRateLimit': True, 'rateLimit': 2000\n",
    "})\n",
    "\n",
    "ftx.headers = {'FTX-SUBACCOUNT': subaccount,}"
   ]
  },
  {
   "cell_type": "code",
   "execution_count": 6,
   "metadata": {},
   "outputs": [],
   "source": [
    "scope = ['https://www.googleapis.com/auth/spreadsheets']\n",
    "credentials = ServiceAccountCredentials.from_json_keyfile_name('zz.json', scope)\n",
    "gc = gspread.authorize(credentials)\n",
    "sheet = gc.open_by_url(\"https://docs.google.com/spreadsheets/d/z\")\n",
    "worksheet = sheet.get_worksheet(0) # sheet index in spreadsheets"
   ]
  },
  {
   "cell_type": "code",
   "execution_count": 5,
   "metadata": {},
   "outputs": [],
   "source": [
    "pair = 'BULL/USD'\n",
    "quote_currency = 'USD'\n",
    "symbol = 'BULL'\n",
    "thr = 1.0 # %\n",
    "cash = [x['usdValue'] for x in (ftx.fetch_balance()['info']['result']) if x['coin'] == 'USD'][0]\n",
    "nav = [x['usdValue'] for x in (ftx.fetch_balance()['info']['result']) if x['coin'] == symbol][0]"
   ]
  },
  {
   "cell_type": "code",
   "execution_count": 6,
   "metadata": {},
   "outputs": [],
   "source": [
    "# last_price = ftx.fetch_ticker(pair)['last']\n",
    "# ftx.create_market_buy_order(pair, nav/last_price)"
   ]
  },
  {
   "cell_type": "code",
   "execution_count": 7,
   "metadata": {},
   "outputs": [],
   "source": [
    "# def cancel_orders():\n",
    "#     ftx.cancel_all_orders()                                                                "
   ]
  },
  {
   "cell_type": "code",
   "execution_count": 8,
   "metadata": {},
   "outputs": [],
   "source": [
    "def cancel_orders():\n",
    "    ftx.cancel_order(ftx.fetch_open_orders()[-1]['id'])"
   ]
  },
  {
   "cell_type": "code",
   "execution_count": 10,
   "metadata": {},
   "outputs": [],
   "source": [
    "def open_orders():\n",
    "    balance = ftx.fetch_balance() \n",
    "    amount = balance[symbol]['total']\n",
    "    \n",
    "    #Price\n",
    "    price_up = (nav/amount) * (1+(thr/100))    # = +1.5% threshold reb\n",
    "    price_dw = (nav/amount) * (1-(thr/100))   # = -1.5% threshold reb \n",
    "#     print(price_up,price_dw)\n",
    "    \n",
    "    nav_up = price_up * amount\n",
    "    nav_dw = price_dw * amount\n",
    "    \n",
    "    #Cal amount\n",
    "    dif_up = abs(nav-nav_up) #2/200\n",
    "    dif_dw = abs(nav-nav_dw)\n",
    "    \n",
    "    amount_up = dif_up/price_up\n",
    "    amount_dw = dif_dw/price_dw\n",
    "#     print(amount_up,amount_dw)\n",
    "    \n",
    "    #Place Order\n",
    "    sell_order = ftx.create_order(pair,'limit','sell', amount_up, price_up)\n",
    "    buy_order = ftx.create_order(pair,'limit','buy', amount_dw, price_dw)\n",
    "    acc()                                                               "
   ]
  },
  {
   "cell_type": "code",
   "execution_count": 11,
   "metadata": {},
   "outputs": [],
   "source": [
    "def acc():\n",
    "    d = ftx.fetchMyTrades(pair)\n",
    "    balance = ftx.fetch_balance()\n",
    "    \n",
    "    datetime = d[-1]['datetime']\n",
    "    side = d[-1]['side']\n",
    "    price = d[-1]['price']\n",
    "    cash_val = [x['usdValue'] for x in (balance['info']['result']) if x['coin'] == 'USD'][0]\n",
    "    nav_val = [x['usdValue'] for x in (balance['info']['result']) if x['coin'] == symbol][0]\n",
    "    port_val = round(sum(map(lambda x: x['usdValue'], balance['info']['result'])),4)\n",
    "    amount_hold = balance['total'][symbol]\n",
    "    \n",
    "    worksheet.insert_row([datetime, side, price, cash_val, nav_val, port_val, amount_hold], 2)"
   ]
  },
  {
   "cell_type": "code",
   "execution_count": 12,
   "metadata": {},
   "outputs": [],
   "source": [
    "def check_orders():\n",
    "    try:\n",
    "        my_open_orders = ftx.fetch_open_orders(pair)\n",
    "        if len(my_open_orders) == 1:   \n",
    "            cancel_orders()\n",
    "            open_orders()\n",
    "\n",
    "        elif len(my_open_orders) == 2:   \n",
    "            pass\n",
    "\n",
    "        elif len(my_open_orders) == 0:   \n",
    "            open_orders()\n",
    "            \n",
    "        else:\n",
    "            cancel_orders()\n",
    "            \n",
    "    except InsufficientFunds as e:\n",
    "        global go\n",
    "        go = False\n",
    "        time.sleep(1)\n",
    "    except ccxt.NetworkError as e:\n",
    "        print(ftx.id, 'fetch_order_book failed due to a network error:', str(e))\n",
    "        time.sleep(1)\n",
    "        check_orders()\n",
    "    except ccxt.ExchangeError as e:\n",
    "        print(ftx.id, 'fetch_order_book failed due to exchange error:', str(e))\n",
    "        time.sleep(1)\n",
    "        check_orders()\n",
    "    except Exception as e:\n",
    "        print(ftx.id, 'fetch_order_book failed with:', str(e))\n",
    "        time.sleep(1)\n",
    "        check_orders()"
   ]
  },
  {
   "cell_type": "code",
   "execution_count": 13,
   "metadata": {},
   "outputs": [],
   "source": [
    "def check_compound():\n",
    "    try:\n",
    "        global cash, nav\n",
    "\n",
    "        msg = 'check if compound: nav={}, cash={}'.format(nav, cash)\n",
    "        r = requests.post(url, headers=headers, data = {'message':msg})\n",
    "        curr_cash = [x['usdValue'] for x in (ftx.fetch_balance()['info']['result']) if x['coin'] == 'USD'][0]\n",
    "        \n",
    "        if curr_cash > nav:\n",
    "\n",
    "            diff = (curr_cash - nav)/2\n",
    "            nav = nav + diff\n",
    "            cash = curr_cash - diff\n",
    "            \n",
    "            msgg = 'do compound: new nav={}, new cash={}'.format(nav, cash)\n",
    "            messenger.sendtext(msgg)\n",
    "            \n",
    "            ftx.cancel_all_orders()\n",
    "            open_orders()\n",
    "\n",
    "            \n",
    "    except InsufficientFunds as e:\n",
    "        global go\n",
    "        go = False\n",
    "        time.sleep(1)\n",
    "    except ccxt.NetworkError as e:\n",
    "        print(ftx.id, 'fetch_order_book failed due to a network error:', str(e))\n",
    "        time.sleep(1)\n",
    "        check_orders()\n",
    "    except ccxt.ExchangeError as e:\n",
    "        print(ftx.id, 'fetch_order_book failed due to exchange error:', str(e))\n",
    "        time.sleep(1)\n",
    "        check_orders()\n",
    "    except Exception as e:\n",
    "        print(ftx.id, 'fetch_order_book failed with:', str(e))\n",
    "        time.sleep(1)\n",
    "        check_orders()"
   ]
  },
  {
   "cell_type": "code",
   "execution_count": 1,
   "metadata": {},
   "outputs": [],
   "source": [
    "schedule.every(2).seconds.do(check_orders)\n",
    "schedule.every(0.08).days.do(check_compound)\n",
    "check_compound()\n",
    "go = True\n",
    "while go:\n",
    "    schedule.run_pending()\n",
    "    time.sleep(1)"
   ]
  }
 ],
 "metadata": {
  "kernelspec": {
   "display_name": "Python 3",
   "language": "python",
   "name": "python3"
  },
  "language_info": {
   "codemirror_mode": {
    "name": "ipython",
    "version": 3
   },
   "file_extension": ".py",
   "mimetype": "text/x-python",
   "name": "python",
   "nbconvert_exporter": "python",
   "pygments_lexer": "ipython3",
   "version": "3.8.8"
  }
 },
 "nbformat": 4,
 "nbformat_minor": 4
}
